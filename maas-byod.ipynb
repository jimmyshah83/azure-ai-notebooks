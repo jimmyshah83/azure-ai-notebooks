{
 "cells": [
  {
   "cell_type": "code",
   "execution_count": null,
   "metadata": {},
   "outputs": [],
   "source": [
    "%pip install --upgrade --quiet langchain_community langchain-openai langchainhub \n",
    "%pip install --upgrade --quiet  azure-search-documents>=11.4\n",
    "%pip install --upgrade --quiet  azure-identity\n",
    "%pip install python-dotenv"
   ]
  },
  {
   "cell_type": "code",
   "execution_count": 1,
   "metadata": {},
   "outputs": [],
   "source": [
    "import os\n",
    "import dotenv\n",
    "\n",
    "dotenv.load_dotenv()\n",
    "\n",
    "ai_serch_svc = os.getenv(\"AZURE_AI_SEARCH_SERVICE_NAME\")\n",
    "ai_search_index = os.getenv(\"AZURE_AI_SEARCH_INDEX_NAME\")\n",
    "ai_search_api_key = os.getenv(\"AZURE_AI_SEARCH_API_KEY\")\n",
    "phi_key = os.getenv(\"PHI_SERVERLESS_KEY\")\n",
    "phi_url = os.getenv(\"PHI_SERVERLESS_URL\")\n",
    "llama_key = os.getenv(\"LLAMA_MANAGED_KEY\")\n",
    "llaam_url = os.getenv(\"LLAMA_MANAGED_URL\")"
   ]
  },
  {
   "cell_type": "markdown",
   "metadata": {},
   "source": [
    "Sample Question:\n",
    "\n",
    "1. I’m an ICU nurse looking to move to Nanaimo, do you have any openings?\n",
    "* Follow up question: what’s it like living in Nanaimo?\n",
    "* Follow up question: what’re house prices like?\n",
    "* what would I need to qualify for one of those roles?"
   ]
  },
  {
   "cell_type": "markdown",
   "metadata": {},
   "source": [
    "#### Create Azure AI Search Retriever"
   ]
  },
  {
   "cell_type": "code",
   "execution_count": 2,
   "metadata": {},
   "outputs": [],
   "source": [
    "from langchain_community.retrievers import AzureAISearchRetriever\n",
    "\n",
    "retriever = AzureAISearchRetriever(\n",
    "    api_key=ai_search_api_key,\n",
    "    index_name=ai_search_index,\n",
    "    service_name=ai_serch_svc,\n",
    "    top_k=5,\n",
    "    content_key=\"chunk\"\n",
    ")"
   ]
  },
  {
   "cell_type": "markdown",
   "metadata": {},
   "source": [
    "#### Prompt"
   ]
  },
  {
   "cell_type": "code",
   "execution_count": 3,
   "metadata": {},
   "outputs": [],
   "source": [
    "\n",
    "from langchain import hub\n",
    "prompt = hub.pull(\"langchain-ai/retrieval-qa-chat\")\n",
    "\n",
    "q1 = \"I am an ICU nurse looking to move to Nanaimo, do you have any openings?\"\n",
    "q2 = \"Do I qualify for this role if I have 5 years of experience as a critical care nurse?\"\n",
    "q3 = \"How is it like living in that city?\"\n",
    "q4 = \"What is the salary range for this role?\"\n",
    "\n",
    "chat_history = []"
   ]
  },
  {
   "cell_type": "markdown",
   "metadata": {},
   "source": [
    "#### GPT 4-o"
   ]
  },
  {
   "cell_type": "code",
   "execution_count": 4,
   "metadata": {},
   "outputs": [],
   "source": [
    "from langchain_openai import AzureChatOpenAI\n",
    "\n",
    "gpt4o = AzureChatOpenAI(\n",
    "    api_version=\"2024-06-01\",\n",
    "    azure_deployment=\"gpt-4o\",\n",
    "    temperature=0,\n",
    "    top_p=0.95,\n",
    "    max_tokens=1000,\n",
    ")"
   ]
  },
  {
   "cell_type": "code",
   "execution_count": 5,
   "metadata": {},
   "outputs": [],
   "source": [
    "from langchain.chains.combine_documents import create_stuff_documents_chain\n",
    "from langchain.chains import create_retrieval_chain\n",
    "from langchain_core.messages import HumanMessage\n",
    "\n",
    "gpt4o_retrieval_chain = create_retrieval_chain(retriever, create_stuff_documents_chain(gpt4o, prompt))"
   ]
  },
  {
   "cell_type": "code",
   "execution_count": 6,
   "metadata": {},
   "outputs": [
    {
     "name": "stdout",
     "output_type": "stream",
     "text": [
      "\n",
      "Yes, there are current and future opportunities for Registered Nurses at Nanaimo Regional General Hospital (NRGH) in various departments, including the Intensive Care Unit (ICU). You can express your interest by applying to the job postings listed under the Expression of Interest (EOI) numbers JD4916 and JD5029. These positions are part of Island Health, which is the Health Authority for Vancouver Island. \n",
      "\n",
      "For the ICU & High Acuity Unit specifically, you would need to have:\n",
      "- Registration with the BC College of Nurses and Midwives as a practicing RN registrant.\n",
      "- Minimum 2 years of recent Critical Care nursing experience or an accredited Critical Care course.\n",
      "- Demonstrated ability in arrhythmia interpretation as evidenced by a mark of 75% on the VIHA ECG Challenge exam.\n",
      "- Advanced Cardiac Life Support and CRRT (continuous renal replacement therapy) are considered assets.\n",
      "\n",
      "Relocation assistance may be available to qualified applicants. If you meet these qualifications and are interested, you should apply to continue the conversation with Island Health.\n"
     ]
    }
   ],
   "source": [
    "gptr1 = gpt4o_retrieval_chain.invoke({\"input\": q1, \"chat_history\": chat_history})\n",
    "print(\"\\n\" + gptr1[\"answer\"])\n",
    "chat_history.extend([HumanMessage(content=q1), gptr1[\"answer\"]])"
   ]
  },
  {
   "cell_type": "code",
   "execution_count": 7,
   "metadata": {},
   "outputs": [
    {
     "name": "stdout",
     "output_type": "stream",
     "text": [
      "\n",
      "Based on the job description for the ICU/HAU Critical Care Nurse at Nanaimo Regional General Hospital, you would qualify for the role if you have 5 years of experience as a critical care nurse. The qualifications for this position include:\n",
      "\n",
      "- Registration with the BC College of Nurses and Midwives as a practicing RN registrant.\n",
      "- Minimum 2 years of recent Critical Care nursing experience or an accredited Critical Care course.\n",
      "- Demonstrated ability in arrhythmia interpretation as evidenced by a mark of 75% on the VIHA ECG Challenge exam.\n",
      "- Advanced Cardiac Life Support and CRRT (continuous renal replacement therapy) are considered assets.\n",
      "\n",
      "Since you have 5 years of experience in critical care, you meet the experience requirement. If you also meet the other qualifications, such as registration with the BC College of Nurses and Midwives and the ability to interpret arrhythmias, you would be a strong candidate for the position.\n"
     ]
    }
   ],
   "source": [
    "gptr2 = gpt4o_retrieval_chain.invoke({\"input\": q2, \"chat_history\": chat_history})\n",
    "print(\"\\n\" + gptr2[\"answer\"])\n",
    "chat_history.extend([HumanMessage(content=q2), gptr2[\"answer\"]])"
   ]
  },
  {
   "cell_type": "code",
   "execution_count": 8,
   "metadata": {},
   "outputs": [
    {
     "name": "stdout",
     "output_type": "stream",
     "text": [
      "\n",
      "Nanaimo, located on central Vancouver Island, offers a unique blend of natural beauty, recreational opportunities, and a vibrant community. Here are some aspects of living in Nanaimo:\n",
      "\n",
      "### Natural Beauty and Outdoor Activities\n",
      "- **Scenic Views**: Nanaimo is a harbour city with stunning ocean views and easy access to beaches. You can watch cruise ships pass by or enjoy the waterfront.\n",
      "- **Outdoor Activities**: The city is surrounded by hiking and biking trails, making it a great place for outdoor enthusiasts. There are also opportunities for water sports, fishing, and exploring nearby parks.\n",
      "\n",
      "### Community and Lifestyle\n",
      "- **Close-Knit Community**: Nanaimo has a welcoming and close-knit community. It's a place where you can easily get to know your neighbors and feel a sense of belonging.\n",
      "- **Cultural Opportunities**: The city offers various cultural and recreational activities, including local markets, festivals, and community events.\n",
      "\n",
      "### Accessibility\n",
      "- **Convenient Location**: Nanaimo is a convenient access point to the mainland, making it easy to travel to other parts of British Columbia. The city is well-connected by ferry and has an airport for longer trips.\n",
      "\n",
      "### Economy and Employment\n",
      "- **Employment Opportunities**: As part of the Island Health Authority, Nanaimo Regional General Hospital is a significant employer in the area. The city also has a growing technology sector and various other employment opportunities.\n",
      "- **Cost of Living**: While the cost of living can vary, Nanaimo generally offers a more affordable lifestyle compared to larger cities like Vancouver.\n",
      "\n",
      "### Education and Family Life\n",
      "- **Educational Institutions**: Nanaimo has good educational facilities, including schools and Vancouver Island University.\n",
      "- **Family-Friendly**: The city is considered a great place to raise a family, with various family-oriented activities and a safe environment.\n",
      "\n",
      "### Climate\n",
      "- **Mild Climate**: Nanaimo enjoys a mild climate with warm, dry summers and mild, wet winters. This makes it possible to enjoy outdoor activities year-round.\n",
      "\n",
      "Overall, Nanaimo offers a balanced lifestyle with a mix of natural beauty, community spirit, and accessibility, making it an attractive place to live, especially for those who enjoy outdoor activities and a close-knit community.\n"
     ]
    }
   ],
   "source": [
    "gptr3 = gpt4o_retrieval_chain.invoke({\"input\": q3, \"chat_history\": chat_history})\n",
    "print(\"\\n\" + gptr3[\"answer\"])\n",
    "chat_history.extend([HumanMessage(content=q3), gptr3[\"answer\"]])"
   ]
  },
  {
   "cell_type": "code",
   "execution_count": 9,
   "metadata": {},
   "outputs": [
    {
     "name": "stdout",
     "output_type": "stream",
     "text": [
      "\n",
      "The salary range for a Staff Nurse, including those in specialized units like the Intensive Care Unit (ICU), is determined by the Nurses Bargaining Association and follows the pay scale outlined in the collective agreement. For a position classified under Direct Patient Care - Profile Classification - Level 3 (NL3), the salary grid typically ranges from approximately $35 to $47 per hour, depending on factors such as years of experience and specific qualifications.\n",
      "\n",
      "For more precise information, you would need to refer to the current collective agreement or contact the Human Resources department of Island Health. They can provide the exact salary range based on your experience and qualifications.\n"
     ]
    }
   ],
   "source": [
    "print(\"\\n\" + gpt4o_retrieval_chain.invoke({\"input\": q4, \"chat_history\": chat_history})[\"answer\"])\n",
    "chat_history.clear()"
   ]
  },
  {
   "cell_type": "markdown",
   "metadata": {},
   "source": [
    "#### Phi - Managed endpoint\n",
    "\n",
    "- Phi 3 medium 128K\n",
    "The allowed skus for this model are \n",
    "1. Standard_NC48ads_A100_v4 - $6616.59 per month / 3 year reserved\n",
    "2. Standard_NC96ads_A100_v4\n",
    "3. Standard_ND96amsr_A100_v4\n",
    "\n",
    "- Phi 3 small 128K\n",
    "The allowed skus for this model are \n",
    "1. Standard_NC24ads_A100_v4 - $3308.29 per month / 3 year reserved\n",
    "2. Standard_NC48ads_A100_v4\n",
    "3. Standard_NC96ads_A100_v4\n",
    "4. Standard_ND96amsr_A100_v4"
   ]
  },
  {
   "cell_type": "code",
   "execution_count": 10,
   "metadata": {},
   "outputs": [],
   "source": [
    "from langchain_community.chat_models.azureml_endpoint import (\n",
    "    AzureMLChatOnlineEndpoint,\n",
    "    AzureMLEndpointApiType,\n",
    "    CustomOpenAIChatContentFormatter,\n",
    ")\n",
    "\n",
    "phi3s128k_model = AzureMLChatOnlineEndpoint(\n",
    "    endpoint_url=phi_url,\n",
    "    endpoint_api_type=AzureMLEndpointApiType.serverless,\n",
    "    endpoint_api_key=phi_key,\n",
    "    content_formatter=CustomOpenAIChatContentFormatter(),\n",
    "    model_kwargs={\"temperature\": 0, \"top_p\": 0.95, \"max_new_tokens\": 1000}\n",
    ")"
   ]
  },
  {
   "cell_type": "code",
   "execution_count": 11,
   "metadata": {},
   "outputs": [],
   "source": [
    "phi3s128k_retrieval_chain = create_retrieval_chain(retriever, create_stuff_documents_chain(phi3s128k_model, prompt))"
   ]
  },
  {
   "cell_type": "code",
   "execution_count": 12,
   "metadata": {},
   "outputs": [
    {
     "name": "stdout",
     "output_type": "stream",
     "text": [
      "\n",
      "Yes, we currently have an opening for a Registered Nurse in the ICU & High Acuity Unit at Nanaimo Regional General Hospital. This position is a Level 3 GRID/PAY LEVEL role, as per the Nurses Bargaining Association HSCIS NO.: 21001, and is represented by the BCNU union. The job involves providing direct patient care in the Intensive Care Unit (ICU) and High Acuity Unit (HAU), with a focus on acutely ill patients. The staffing ratio is 1:1 for ventilated and critically unstable patients. The ICU nurses are part of the Code Blue team, except for the Cowichan District and West Coast General Hospitals. Continuous Renal Replacement Therapy (CRRT) and organ donor maintenance are available at the Victoria and Nanaimo Hospitals. The High Acuity units provide care for adult patients requiring increased monitoring and resuscitation in a multidisciplinary environment. The nurse to patient ratio in this unit is 1:2. The position requires a minimum of 2 years recent Critical Care nursing experience and or an accredited Critical Care course. Advanced Cardiac Life Support and CRRT (continuous renal replacement therapy) are assets. If you are interested, please apply through our job portal.\n"
     ]
    }
   ],
   "source": [
    "phir1 = phi3s128k_retrieval_chain.invoke({\"input\": q1, \"chat_history\": chat_history})\n",
    "print(\"\\n\" + phir1[\"answer\"])\n",
    "chat_history.extend([HumanMessage(content=q1), phir1[\"answer\"]])"
   ]
  },
  {
   "cell_type": "code",
   "execution_count": 13,
   "metadata": {},
   "outputs": [
    {
     "name": "stdout",
     "output_type": "stream",
     "text": [
      "\n",
      "Yes, with 5 years of experience as a critical care nurse, you would be well-qualified for the Registered Nurse position in the ICU & High Acuity Unit at Nanaimo Regional General Hospital. The job description specifies a minimum of 2 years recent Critical Care nursing experience, and your 5 years of experience would exceed this requirement. Additionally, the job description mentions that Advanced Cardiac Life Support and CRRT (continuous renal replacement therapy) are assets, which suggests that these skills would be beneficial but not necessarily required. However, it's always a good idea to check the specific job posting for any additional qualifications or requirements.\n"
     ]
    }
   ],
   "source": [
    "phir2 = phi3s128k_retrieval_chain.invoke({\"input\": q2, \"chat_history\": chat_history})\n",
    "print(\"\\n\" + phir2[\"answer\"])\n",
    "chat_history.extend([HumanMessage(content=q2), phir2[\"answer\"]])"
   ]
  },
  {
   "cell_type": "code",
   "execution_count": 14,
   "metadata": {},
   "outputs": [
    {
     "name": "stdout",
     "output_type": "stream",
     "text": [
      "\n",
      "Nanaimo, located on central Vancouver Island, is a vibrant city with a rich cultural heritage and a variety of recreational opportunities. It's a convenient access point to the mainland and is known for its beautiful harbour and beach. The city is also a popular stop for cruise ships, adding to its lively atmosphere. In terms of healthcare, Nanaimo Regional General Hospital is a major employer and provides a range of services, including a Level 3 ICU & High Acuity Unit. The city is also home to a number of educational institutions, making it a great place for families. If you're interested in the job, you might also want to consider the city's cost of living, climate, and other lifestyle factors.\n"
     ]
    }
   ],
   "source": [
    "phir3 = phi3s128k_retrieval_chain.invoke({\"input\": q3, \"chat_history\": chat_history})\n",
    "print(\"\\n\" + phir3[\"answer\"])\n",
    "chat_history.extend([HumanMessage(content=q3), phir3[\"answer\"]])"
   ]
  },
  {
   "cell_type": "code",
   "execution_count": 15,
   "metadata": {},
   "outputs": [
    {
     "name": "stdout",
     "output_type": "stream",
     "text": [
      "\n",
      "The salary for the Registered Nurse position in the ICU & High Acuity Unit at Nanaimo Regional General Hospital is determined by the Level 3 GRID/PAY LEVEL as per the Nurses Bargaining Association HSCIS NO.: 21001. The exact salary range can vary based on factors such as experience, education, and specific skills. However, as a Level 3 position, you can expect a competitive salary that reflects the high level of responsibility and expertise required for this role. For the most accurate and up-to-date salary information, I would recommend checking the specific job posting or contacting the hospital's human resources department.\n"
     ]
    }
   ],
   "source": [
    "print(\"\\n\" + phi3s128k_retrieval_chain.invoke({\"input\": q4, \"chat_history\": chat_history})[\"answer\"])\n",
    "chat_history.clear()"
   ]
  },
  {
   "cell_type": "markdown",
   "metadata": {},
   "source": [
    "#### LLama - Managed endpoint\n",
    "\n",
    "- LLama 3.1 70B\n",
    "\n",
    "The allowed skus for this model are\n",
    "1. Standard_NC96ads_A100_v4\n",
    "2. Standard_ND96asr_v4 \n",
    "3. Standard_ND96amsr_A100_v4\n",
    "\n",
    "- LLama 3.1 8B\n",
    "\n",
    "The allowed skus for this model are \n",
    "1. Standard_ND40rs_v2\n",
    "2. Standard_NC24ads_A100_v4\n",
    "3. Standard_NC48ads_A100_v4\n",
    "4. Standard_NC96ads_A100_v4\n",
    "5. Standard_ND96amsr_A100_v4"
   ]
  },
  {
   "cell_type": "code",
   "execution_count": 16,
   "metadata": {},
   "outputs": [],
   "source": [
    "llama318k_model = AzureMLChatOnlineEndpoint(\n",
    "    endpoint_url=llaam_url,\n",
    "    endpoint_api_type=AzureMLEndpointApiType.dedicated,\n",
    "    endpoint_api_key=llama_key,\n",
    "    content_formatter=CustomOpenAIChatContentFormatter(),\n",
    "    model_kwargs={\"temperature\": 0, \"top_p\": 0.95, \"max_new_tokens\": 1000}\n",
    ")"
   ]
  },
  {
   "cell_type": "code",
   "execution_count": 17,
   "metadata": {},
   "outputs": [],
   "source": [
    "llama_retrieval_chain = create_retrieval_chain(retriever, create_stuff_documents_chain(llama318k_model, prompt))"
   ]
  },
  {
   "cell_type": "code",
   "execution_count": 18,
   "metadata": {},
   "outputs": [
    {
     "name": "stdout",
     "output_type": "stream",
     "text": [
      "\n",
      "According to the job descriptions provided, there are openings for ICU/HAU Critical Care Nurses in Nanaimo, specifically at Nanaimo Regional General Hospital. The job description (JD3027) mentions that the position is available at Nanaimo Regional General Hospital, which is one of the facilities listed.\n",
      "\n",
      "However, I would recommend checking the Island Health website or contacting the Human Resources department directly to confirm the availability of positions and to inquire about the application process. They may also have more information about the specific requirements and qualifications for the position.\n",
      "\n",
      "Additionally, you can also check the Island Health website for other ICU nurse positions that may be available in Nanaimo or other locations on Vancouver Island.\n"
     ]
    }
   ],
   "source": [
    "llamar1 = llama_retrieval_chain.invoke({\"input\": q1, \"chat_history\": chat_history})\n",
    "print(\"\\n\" + llamar1[\"answer\"])\n",
    "chat_history.extend([HumanMessage(content=q1), llamar1[\"answer\"]])"
   ]
  },
  {
   "cell_type": "code",
   "execution_count": 19,
   "metadata": {},
   "outputs": [
    {
     "name": "stdout",
     "output_type": "stream",
     "text": [
      "\n",
      "According to the job description (JD3027), the minimum requirement for the ICU/HAU Critical Care Nurse position is 2 years of recent, related experience, or an equivalent combination of education, training, and experience.\n",
      "\n",
      "Since you have 5 years of experience as a critical care nurse, you likely meet the experience requirement. However, it's always best to review the job description and requirements carefully to ensure you meet all the qualifications.\n",
      "\n",
      "Additionally, the job description mentions that Advanced Cardiac Life Support (ACLS) and CRRT (continuous renal replacement therapy) are assets, but not necessarily required. It's possible that having 5 years of experience as a critical care nurse may have provided you with the necessary skills and knowledge to perform these tasks.\n",
      "\n",
      "To confirm your eligibility, I would recommend reviewing the job description and requirements again, and then contacting the Human Resources department directly to inquire about the application process and any specific requirements for the position.\n"
     ]
    }
   ],
   "source": [
    "llamar2 = llama_retrieval_chain.invoke({\"input\": q2, \"chat_history\": chat_history})\n",
    "print(\"\\n\" + llamar2[\"answer\"])\n",
    "chat_history.extend([HumanMessage(content=q2), llamar2[\"answer\"]])"
   ]
  },
  {
   "cell_type": "code",
   "execution_count": 20,
   "metadata": {},
   "outputs": [
    {
     "name": "stdout",
     "output_type": "stream",
     "text": [
      "\n",
      "Nanaimo is a city located on the east coast of Vancouver Island, British Columbia, Canada. It's a charming city with a population of around 90,000 people. Here are some aspects of living in Nanaimo:\n",
      "\n",
      "Pros:\n",
      "\n",
      "1. **Natural beauty**: Nanaimo is surrounded by mountains, forests, and waterways, making it a great place for outdoor enthusiasts. The city has many parks, trails, and beaches to explore.\n",
      "2. **Mild climate**: Nanaimo has a mild oceanic climate, with mild winters and cool summers. The average temperature ranges from 2°C to 22°C (36°F to 72°F) throughout the year.\n",
      "3. **Affordable cost of living**: Compared to other cities in British Columbia, Nanaimo has a relatively low cost of living. Housing, food, and transportation costs are lower than in Vancouver or Victoria.\n",
      "4. **Community-oriented**: Nanaimo has a strong sense of community, with many local events and festivals throughout the year. The city has a small-town feel, making it easy to get to know your neighbors and feel connected.\n",
      "\n",
      "Cons:\n",
      "\n",
      "1. **Limited job opportunities**: While Nanaimo has a growing economy, job opportunities may be limited in certain industries. However, the city is investing in new developments and initiatives to attract businesses and talent.\n",
      "2. **Traffic and congestion**: Nanaimo's roads can get congested, especially during rush hour. However, the city is working to improve traffic flow and public transportation options.\n",
      "3. **Weather**: While the climate is mild, Nanaimo can experience rain and overcast skies, especially during the winter months. However, this is typical of the Pacific Northwest region.\n",
      "\n",
      "Overall, Nanaimo is a great place to live for those who enjoy outdoor activities, a relaxed pace of life, and a strong sense of community.\n"
     ]
    }
   ],
   "source": [
    "llamar3 = llama_retrieval_chain.invoke({\"input\": q3, \"chat_history\": chat_history})\n",
    "print(\"\\n\" + llamar3[\"answer\"])\n",
    "chat_history.extend([HumanMessage(content=q3), llamar3[\"answer\"]])"
   ]
  },
  {
   "cell_type": "code",
   "execution_count": 21,
   "metadata": {},
   "outputs": [
    {
     "name": "stdout",
     "output_type": "stream",
     "text": [
      "\n",
      "The job description (JD3027) for the ICU/HAU Critical Care Nurse position does not provide a specific salary range. However, according to the Collective Agreement between the British Columbia Nurses' Union and the Health Employers Association of British Columbia, the salary range for a Registered Nurse (RN) in the Level 3 classification, which is the classification for this position, is between $43.69 and $63.49 per hour, depending on experience and qualifications.\n",
      "\n",
      "It's also worth noting that the salary range may vary depending on the specific employer, location, and other factors. If you are interested in learning more about the salary range for this role, I would recommend contacting the Human Resources department directly or checking the Island Health website for more information.\n"
     ]
    }
   ],
   "source": [
    "print(\"\\n\" + llama_retrieval_chain.invoke({\"input\": q4, \"chat_history\": chat_history})[\"answer\"])\n",
    "chat_history.clear()"
   ]
  }
 ],
 "metadata": {
  "language_info": {
   "name": "python"
  }
 },
 "nbformat": 4,
 "nbformat_minor": 2
}
