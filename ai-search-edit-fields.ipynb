{
 "cells": [
  {
   "cell_type": "code",
   "execution_count": 16,
   "metadata": {},
   "outputs": [
    {
     "name": "stdout",
     "output_type": "stream",
     "text": [
      "Requirement already satisfied: azure-storage-blob in /Users/jimmyshah/workspace/contoso-langchain-copilot-demo/.venv/lib/python3.12/site-packages (12.20.0)\n",
      "Requirement already satisfied: azure-core>=1.28.0 in /Users/jimmyshah/workspace/contoso-langchain-copilot-demo/.venv/lib/python3.12/site-packages (from azure-storage-blob) (1.30.1)\n",
      "Requirement already satisfied: cryptography>=2.1.4 in /Users/jimmyshah/workspace/contoso-langchain-copilot-demo/.venv/lib/python3.12/site-packages (from azure-storage-blob) (42.0.7)\n",
      "Requirement already satisfied: typing-extensions>=4.6.0 in /Users/jimmyshah/workspace/contoso-langchain-copilot-demo/.venv/lib/python3.12/site-packages (from azure-storage-blob) (4.10.0)\n",
      "Requirement already satisfied: isodate>=0.6.1 in /Users/jimmyshah/workspace/contoso-langchain-copilot-demo/.venv/lib/python3.12/site-packages (from azure-storage-blob) (0.6.1)\n",
      "Requirement already satisfied: requests>=2.21.0 in /Users/jimmyshah/workspace/contoso-langchain-copilot-demo/.venv/lib/python3.12/site-packages (from azure-core>=1.28.0->azure-storage-blob) (2.31.0)\n",
      "Requirement already satisfied: six>=1.11.0 in /Users/jimmyshah/workspace/contoso-langchain-copilot-demo/.venv/lib/python3.12/site-packages (from azure-core>=1.28.0->azure-storage-blob) (1.16.0)\n",
      "Requirement already satisfied: cffi>=1.12 in /Users/jimmyshah/workspace/contoso-langchain-copilot-demo/.venv/lib/python3.12/site-packages (from cryptography>=2.1.4->azure-storage-blob) (1.16.0)\n",
      "Requirement already satisfied: pycparser in /Users/jimmyshah/workspace/contoso-langchain-copilot-demo/.venv/lib/python3.12/site-packages (from cffi>=1.12->cryptography>=2.1.4->azure-storage-blob) (2.22)\n",
      "Requirement already satisfied: charset-normalizer<4,>=2 in /Users/jimmyshah/workspace/contoso-langchain-copilot-demo/.venv/lib/python3.12/site-packages (from requests>=2.21.0->azure-core>=1.28.0->azure-storage-blob) (3.3.2)\n",
      "Requirement already satisfied: idna<4,>=2.5 in /Users/jimmyshah/workspace/contoso-langchain-copilot-demo/.venv/lib/python3.12/site-packages (from requests>=2.21.0->azure-core>=1.28.0->azure-storage-blob) (3.6)\n",
      "Requirement already satisfied: urllib3<3,>=1.21.1 in /Users/jimmyshah/workspace/contoso-langchain-copilot-demo/.venv/lib/python3.12/site-packages (from requests>=2.21.0->azure-core>=1.28.0->azure-storage-blob) (2.2.1)\n",
      "Requirement already satisfied: certifi>=2017.4.17 in /Users/jimmyshah/workspace/contoso-langchain-copilot-demo/.venv/lib/python3.12/site-packages (from requests>=2.21.0->azure-core>=1.28.0->azure-storage-blob) (2024.2.2)\n",
      "\n",
      "\u001b[1m[\u001b[0m\u001b[34;49mnotice\u001b[0m\u001b[1;39;49m]\u001b[0m\u001b[39;49m A new release of pip is available: \u001b[0m\u001b[31;49m23.2.1\u001b[0m\u001b[39;49m -> \u001b[0m\u001b[32;49m24.0\u001b[0m\n",
      "\u001b[1m[\u001b[0m\u001b[34;49mnotice\u001b[0m\u001b[1;39;49m]\u001b[0m\u001b[39;49m To update, run: \u001b[0m\u001b[32;49mpip install --upgrade pip\u001b[0m\n",
      "Note: you may need to restart the kernel to use updated packages.\n",
      "Requirement already satisfied: azure-search-documents in /Users/jimmyshah/workspace/contoso-langchain-copilot-demo/.venv/lib/python3.12/site-packages (11.4.0)\n",
      "Requirement already satisfied: azure-core<2.0.0,>=1.28.0 in /Users/jimmyshah/workspace/contoso-langchain-copilot-demo/.venv/lib/python3.12/site-packages (from azure-search-documents) (1.30.1)\n",
      "Requirement already satisfied: azure-common~=1.1 in /Users/jimmyshah/workspace/contoso-langchain-copilot-demo/.venv/lib/python3.12/site-packages (from azure-search-documents) (1.1.28)\n",
      "Requirement already satisfied: isodate>=0.6.0 in /Users/jimmyshah/workspace/contoso-langchain-copilot-demo/.venv/lib/python3.12/site-packages (from azure-search-documents) (0.6.1)\n",
      "Requirement already satisfied: requests>=2.21.0 in /Users/jimmyshah/workspace/contoso-langchain-copilot-demo/.venv/lib/python3.12/site-packages (from azure-core<2.0.0,>=1.28.0->azure-search-documents) (2.31.0)\n",
      "Requirement already satisfied: six>=1.11.0 in /Users/jimmyshah/workspace/contoso-langchain-copilot-demo/.venv/lib/python3.12/site-packages (from azure-core<2.0.0,>=1.28.0->azure-search-documents) (1.16.0)\n",
      "Requirement already satisfied: typing-extensions>=4.6.0 in /Users/jimmyshah/workspace/contoso-langchain-copilot-demo/.venv/lib/python3.12/site-packages (from azure-core<2.0.0,>=1.28.0->azure-search-documents) (4.10.0)\n",
      "Requirement already satisfied: charset-normalizer<4,>=2 in /Users/jimmyshah/workspace/contoso-langchain-copilot-demo/.venv/lib/python3.12/site-packages (from requests>=2.21.0->azure-core<2.0.0,>=1.28.0->azure-search-documents) (3.3.2)\n",
      "Requirement already satisfied: idna<4,>=2.5 in /Users/jimmyshah/workspace/contoso-langchain-copilot-demo/.venv/lib/python3.12/site-packages (from requests>=2.21.0->azure-core<2.0.0,>=1.28.0->azure-search-documents) (3.6)\n",
      "Requirement already satisfied: urllib3<3,>=1.21.1 in /Users/jimmyshah/workspace/contoso-langchain-copilot-demo/.venv/lib/python3.12/site-packages (from requests>=2.21.0->azure-core<2.0.0,>=1.28.0->azure-search-documents) (2.2.1)\n",
      "Requirement already satisfied: certifi>=2017.4.17 in /Users/jimmyshah/workspace/contoso-langchain-copilot-demo/.venv/lib/python3.12/site-packages (from requests>=2.21.0->azure-core<2.0.0,>=1.28.0->azure-search-documents) (2024.2.2)\n",
      "\n",
      "\u001b[1m[\u001b[0m\u001b[34;49mnotice\u001b[0m\u001b[1;39;49m]\u001b[0m\u001b[39;49m A new release of pip is available: \u001b[0m\u001b[31;49m23.2.1\u001b[0m\u001b[39;49m -> \u001b[0m\u001b[32;49m24.0\u001b[0m\n",
      "\u001b[1m[\u001b[0m\u001b[34;49mnotice\u001b[0m\u001b[1;39;49m]\u001b[0m\u001b[39;49m To update, run: \u001b[0m\u001b[32;49mpip install --upgrade pip\u001b[0m\n",
      "Note: you may need to restart the kernel to use updated packages.\n",
      "Collecting python-dotenv\n",
      "  Obtaining dependency information for python-dotenv from https://files.pythonhosted.org/packages/6a/3e/b68c118422ec867fa7ab88444e1274aa40681c606d59ac27de5a5588f082/python_dotenv-1.0.1-py3-none-any.whl.metadata\n",
      "  Downloading python_dotenv-1.0.1-py3-none-any.whl.metadata (23 kB)\n",
      "Downloading python_dotenv-1.0.1-py3-none-any.whl (19 kB)\n",
      "Installing collected packages: python-dotenv\n",
      "Successfully installed python-dotenv-1.0.1\n",
      "\n",
      "\u001b[1m[\u001b[0m\u001b[34;49mnotice\u001b[0m\u001b[1;39;49m]\u001b[0m\u001b[39;49m A new release of pip is available: \u001b[0m\u001b[31;49m23.2.1\u001b[0m\u001b[39;49m -> \u001b[0m\u001b[32;49m24.0\u001b[0m\n",
      "\u001b[1m[\u001b[0m\u001b[34;49mnotice\u001b[0m\u001b[1;39;49m]\u001b[0m\u001b[39;49m To update, run: \u001b[0m\u001b[32;49mpip install --upgrade pip\u001b[0m\n",
      "Note: you may need to restart the kernel to use updated packages.\n"
     ]
    }
   ],
   "source": [
    "%pip install azure-storage-blob\n",
    "%pip install azure-search-documents\n",
    "%pip install python-dotenv"
   ]
  },
  {
   "cell_type": "code",
   "execution_count": 17,
   "metadata": {},
   "outputs": [],
   "source": [
    "from azure.storage.blob import BlobServiceClient, generate_blob_sas, BlobSasPermissions\n",
    "from datetime import datetime, timedelta\n",
    "import requests\n",
    "from azure.core.credentials import AzureKeyCredential\n",
    "from azure.search.documents import SearchClient\n",
    "from dotenv import load_dotenv\n",
    "import os"
   ]
  },
  {
   "cell_type": "code",
   "execution_count": 18,
   "metadata": {},
   "outputs": [
    {
     "data": {
      "text/plain": [
       "True"
      ]
     },
     "execution_count": 18,
     "metadata": {},
     "output_type": "execute_result"
    }
   ],
   "source": [
    "# Load environment variables from .env file\n",
    "load_dotenv()"
   ]
  },
  {
   "cell_type": "code",
   "execution_count": 19,
   "metadata": {},
   "outputs": [],
   "source": [
    "# Get secrets from environment variables\n",
    "connection_string = os.getenv('BLOB_CONNECTION_STRING')\n",
    "container_name = os.getenv('BLOB_CONTAINER_NAME')\n",
    "service_name = os.getenv('SEARCH_SERVICE_NAME')\n",
    "key = os.getenv('SEARCH_KEY')\n",
    "service_endpoint = os.getenv('SEARCH_ENDPOINT')\n",
    "index = os.getenv('SEARCH_INDEX_NAME')"
   ]
  },
  {
   "cell_type": "code",
   "execution_count": 20,
   "metadata": {},
   "outputs": [],
   "source": [
    "blob_service_client = BlobServiceClient.from_connection_string(connection_string)\n",
    "container_client = blob_service_client.get_container_client(container_name)"
   ]
  },
  {
   "cell_type": "code",
   "execution_count": 21,
   "metadata": {},
   "outputs": [
    {
     "name": "stdout",
     "output_type": "stream",
     "text": [
      "{'Benchmark Barometer - Monthly FTSE Canada Bond Index Review - Apr 2023_page_1': 'https://saaimcodemo.blob.core.windows.net/fixedincomepdf-pages/Benchmark Barometer - Monthly FTSE Canada Bond Index Review - Apr 2023_page_1.jpeg?se=2024-05-23T19%3A36%3A09Z&sp=r&sv=2024-05-04&sr=b&sig=ltJLkqukEnwb%2BX6Wd02qOaWAz3oGeFXSjoi5IZeW6KE%3D', 'Benchmark Barometer - Monthly FTSE Canada Bond Index Review - Apr 2023_page_10': 'https://saaimcodemo.blob.core.windows.net/fixedincomepdf-pages/Benchmark Barometer - Monthly FTSE Canada Bond Index Review - Apr 2023_page_10.jpeg?se=2024-05-23T19%3A36%3A09Z&sp=r&sv=2024-05-04&sr=b&sig=EZN4G8KHmy0LNtPNlktJip81OHRisvlfJwWqdL1ILLA%3D', 'Benchmark Barometer - Monthly FTSE Canada Bond Index Review - Apr 2023_page_11': 'https://saaimcodemo.blob.core.windows.net/fixedincomepdf-pages/Benchmark Barometer - Monthly FTSE Canada Bond Index Review - Apr 2023_page_11.jpeg?se=2024-05-23T19%3A36%3A09Z&sp=r&sv=2024-05-04&sr=b&sig=06w57lJjhLdZqPVNTNfauxSAlepTfP/z%2BU1TaoU8VT0%3D', 'Benchmark Barometer - Monthly FTSE Canada Bond Index Review - Apr 2023_page_2': 'https://saaimcodemo.blob.core.windows.net/fixedincomepdf-pages/Benchmark Barometer - Monthly FTSE Canada Bond Index Review - Apr 2023_page_2.jpeg?se=2024-05-23T19%3A36%3A09Z&sp=r&sv=2024-05-04&sr=b&sig=lAufdswFceemXZMK9mWRNoHQs0zcTsGi2muEuSIFI7w%3D', 'Benchmark Barometer - Monthly FTSE Canada Bond Index Review - Apr 2023_page_3': 'https://saaimcodemo.blob.core.windows.net/fixedincomepdf-pages/Benchmark Barometer - Monthly FTSE Canada Bond Index Review - Apr 2023_page_3.jpeg?se=2024-05-23T19%3A36%3A09Z&sp=r&sv=2024-05-04&sr=b&sig=qQClouD/d5eTTJ2YyzZEpg6KnXKsdMEQJ7B2CrhHVS4%3D', 'Benchmark Barometer - Monthly FTSE Canada Bond Index Review - Apr 2023_page_4': 'https://saaimcodemo.blob.core.windows.net/fixedincomepdf-pages/Benchmark Barometer - Monthly FTSE Canada Bond Index Review - Apr 2023_page_4.jpeg?se=2024-05-23T19%3A36%3A09Z&sp=r&sv=2024-05-04&sr=b&sig=OUfrhLfB2NfctwRNA5WMnILcRnOfrAPPomq%2BNLXPiAg%3D', 'Benchmark Barometer - Monthly FTSE Canada Bond Index Review - Apr 2023_page_5': 'https://saaimcodemo.blob.core.windows.net/fixedincomepdf-pages/Benchmark Barometer - Monthly FTSE Canada Bond Index Review - Apr 2023_page_5.jpeg?se=2024-05-23T19%3A36%3A09Z&sp=r&sv=2024-05-04&sr=b&sig=F8aCltkBCGV0VPbD1xPeNJanwm6uFXPsOuHpRl9kne4%3D', 'Benchmark Barometer - Monthly FTSE Canada Bond Index Review - Apr 2023_page_6': 'https://saaimcodemo.blob.core.windows.net/fixedincomepdf-pages/Benchmark Barometer - Monthly FTSE Canada Bond Index Review - Apr 2023_page_6.jpeg?se=2024-05-23T19%3A36%3A09Z&sp=r&sv=2024-05-04&sr=b&sig=j7wj8KP%2BAEXjwz7wERPslD7QqwvIlmhNHv%2Bzh1R1LAc%3D', 'Benchmark Barometer - Monthly FTSE Canada Bond Index Review - Apr 2023_page_7': 'https://saaimcodemo.blob.core.windows.net/fixedincomepdf-pages/Benchmark Barometer - Monthly FTSE Canada Bond Index Review - Apr 2023_page_7.jpeg?se=2024-05-23T19%3A36%3A09Z&sp=r&sv=2024-05-04&sr=b&sig=/6O1PdKAFomR3n0H8W57KP4HIGMkT5CMH3mnEyYOqoA%3D', 'Benchmark Barometer - Monthly FTSE Canada Bond Index Review - Apr 2023_page_8': 'https://saaimcodemo.blob.core.windows.net/fixedincomepdf-pages/Benchmark Barometer - Monthly FTSE Canada Bond Index Review - Apr 2023_page_8.jpeg?se=2024-05-23T19%3A36%3A09Z&sp=r&sv=2024-05-04&sr=b&sig=OT1NJUBUx562uVS8ZyQGvQUGDn7HbBlriiBiD6amuHs%3D', 'Benchmark Barometer - Monthly FTSE Canada Bond Index Review - Apr 2023_page_9': 'https://saaimcodemo.blob.core.windows.net/fixedincomepdf-pages/Benchmark Barometer - Monthly FTSE Canada Bond Index Review - Apr 2023_page_9.jpeg?se=2024-05-23T19%3A36%3A09Z&sp=r&sv=2024-05-04&sr=b&sig=YUNWCO1A%2BrX6FJTZpIXCjLIx09RGHTZr9XwOA2yiSkc%3D'}\n"
     ]
    }
   ],
   "source": [
    "blob_list = container_client.list_blobs()\n",
    "blob_map = {}\n",
    "\n",
    "for blob in blob_list:\n",
    "    blob_name = blob.name\n",
    "    sas_token = generate_blob_sas(blob_service_client.account_name,\n",
    "                                  container_name,\n",
    "                                  blob_name,\n",
    "                                  account_key=blob_service_client.credential.account_key,\n",
    "                                  permission=BlobSasPermissions(read=True),\n",
    "                                  expiry=datetime.now(timezone.utc) + timedelta(days=10)\n",
    "                                )\n",
    "    sas_url = f\"https://{blob_service_client.account_name}.blob.core.windows.net/{container_name}/{blob_name}?{sas_token}\"\n",
    "    blob_map[os.path.splitext(blob_name)[0]] = sas_url\n",
    "    \n",
    "print(blob_map)    \n",
    "    "
   ]
  },
  {
   "cell_type": "code",
   "execution_count": 22,
   "metadata": {},
   "outputs": [],
   "source": [
    "def update_blob_storage_url(chunk_id, blob_url):\n",
    " \n",
    "    base_url=f\"https://{service_name}.search.windows.net/indexes/{index}/docs/index?api-version=2020-06-30\"\n",
    "    headers = {\"Content-Type\": \"application/json\", \"api-key\": key}\n",
    "    body = {\n",
    "    \"value\": [\n",
    "        {\n",
    "            \"@search.action\": \"merge\",\n",
    "            \"chunk_id\": chunk_id,\n",
    "            \"blob_url\": blob_url\n",
    "        }\n",
    "    ]\n",
    "    }\n",
    "    requests.post(url = base_url, headers = headers, json = body)\n",
    " \n",
    " "
   ]
  },
  {
   "cell_type": "code",
   "execution_count": 28,
   "metadata": {},
   "outputs": [],
   "source": [
    "search_client = SearchClient(service_endpoint, index, AzureKeyCredential(key))"
   ]
  },
  {
   "cell_type": "code",
   "execution_count": 30,
   "metadata": {},
   "outputs": [
    {
     "name": "stdout",
     "output_type": "stream",
     "text": [
      "updating Benchmark Barometer - Monthly FTSE Canada Bond Index Review - Apr 2023_page_11: https://saaimcodemo.blob.core.windows.net/fixedincomepdf-pages/Benchmark Barometer - Monthly FTSE Canada Bond Index Review - Apr 2023_page_11.jpeg?se=2024-05-23T19%3A36%3A09Z&sp=r&sv=2024-05-04&sr=b&sig=06w57lJjhLdZqPVNTNfauxSAlepTfP/z%2BU1TaoU8VT0%3D\n",
      "updating Benchmark Barometer - Monthly FTSE Canada Bond Index Review - Apr 2023_page_1: https://saaimcodemo.blob.core.windows.net/fixedincomepdf-pages/Benchmark Barometer - Monthly FTSE Canada Bond Index Review - Apr 2023_page_1.jpeg?se=2024-05-23T19%3A36%3A09Z&sp=r&sv=2024-05-04&sr=b&sig=ltJLkqukEnwb%2BX6Wd02qOaWAz3oGeFXSjoi5IZeW6KE%3D\n",
      "updating Benchmark Barometer - Monthly FTSE Canada Bond Index Review - Apr 2023_page_2: https://saaimcodemo.blob.core.windows.net/fixedincomepdf-pages/Benchmark Barometer - Monthly FTSE Canada Bond Index Review - Apr 2023_page_2.jpeg?se=2024-05-23T19%3A36%3A09Z&sp=r&sv=2024-05-04&sr=b&sig=lAufdswFceemXZMK9mWRNoHQs0zcTsGi2muEuSIFI7w%3D\n",
      "updating Benchmark Barometer - Monthly FTSE Canada Bond Index Review - Apr 2023_page_4: https://saaimcodemo.blob.core.windows.net/fixedincomepdf-pages/Benchmark Barometer - Monthly FTSE Canada Bond Index Review - Apr 2023_page_4.jpeg?se=2024-05-23T19%3A36%3A09Z&sp=r&sv=2024-05-04&sr=b&sig=OUfrhLfB2NfctwRNA5WMnILcRnOfrAPPomq%2BNLXPiAg%3D\n",
      "updating Benchmark Barometer - Monthly FTSE Canada Bond Index Review - Apr 2023_page_5: https://saaimcodemo.blob.core.windows.net/fixedincomepdf-pages/Benchmark Barometer - Monthly FTSE Canada Bond Index Review - Apr 2023_page_5.jpeg?se=2024-05-23T19%3A36%3A09Z&sp=r&sv=2024-05-04&sr=b&sig=F8aCltkBCGV0VPbD1xPeNJanwm6uFXPsOuHpRl9kne4%3D\n",
      "updating Benchmark Barometer - Monthly FTSE Canada Bond Index Review - Apr 2023_page_6: https://saaimcodemo.blob.core.windows.net/fixedincomepdf-pages/Benchmark Barometer - Monthly FTSE Canada Bond Index Review - Apr 2023_page_6.jpeg?se=2024-05-23T19%3A36%3A09Z&sp=r&sv=2024-05-04&sr=b&sig=j7wj8KP%2BAEXjwz7wERPslD7QqwvIlmhNHv%2Bzh1R1LAc%3D\n",
      "updating Benchmark Barometer - Monthly FTSE Canada Bond Index Review - Apr 2023_page_3: https://saaimcodemo.blob.core.windows.net/fixedincomepdf-pages/Benchmark Barometer - Monthly FTSE Canada Bond Index Review - Apr 2023_page_3.jpeg?se=2024-05-23T19%3A36%3A09Z&sp=r&sv=2024-05-04&sr=b&sig=qQClouD/d5eTTJ2YyzZEpg6KnXKsdMEQJ7B2CrhHVS4%3D\n",
      "updating Benchmark Barometer - Monthly FTSE Canada Bond Index Review - Apr 2023_page_7: https://saaimcodemo.blob.core.windows.net/fixedincomepdf-pages/Benchmark Barometer - Monthly FTSE Canada Bond Index Review - Apr 2023_page_7.jpeg?se=2024-05-23T19%3A36%3A09Z&sp=r&sv=2024-05-04&sr=b&sig=/6O1PdKAFomR3n0H8W57KP4HIGMkT5CMH3mnEyYOqoA%3D\n",
      "updating Benchmark Barometer - Monthly FTSE Canada Bond Index Review - Apr 2023_page_9: https://saaimcodemo.blob.core.windows.net/fixedincomepdf-pages/Benchmark Barometer - Monthly FTSE Canada Bond Index Review - Apr 2023_page_9.jpeg?se=2024-05-23T19%3A36%3A09Z&sp=r&sv=2024-05-04&sr=b&sig=YUNWCO1A%2BrX6FJTZpIXCjLIx09RGHTZr9XwOA2yiSkc%3D\n",
      "updating Benchmark Barometer - Monthly FTSE Canada Bond Index Review - Apr 2023_page_10: https://saaimcodemo.blob.core.windows.net/fixedincomepdf-pages/Benchmark Barometer - Monthly FTSE Canada Bond Index Review - Apr 2023_page_10.jpeg?se=2024-05-23T19%3A36%3A09Z&sp=r&sv=2024-05-04&sr=b&sig=EZN4G8KHmy0LNtPNlktJip81OHRisvlfJwWqdL1ILLA%3D\n",
      "updating Benchmark Barometer - Monthly FTSE Canada Bond Index Review - Apr 2023_page_8: https://saaimcodemo.blob.core.windows.net/fixedincomepdf-pages/Benchmark Barometer - Monthly FTSE Canada Bond Index Review - Apr 2023_page_8.jpeg?se=2024-05-23T19%3A36%3A09Z&sp=r&sv=2024-05-04&sr=b&sig=OT1NJUBUx562uVS8ZyQGvQUGDn7HbBlriiBiD6amuHs%3D\n"
     ]
    }
   ],
   "source": [
    "results = search_client.search(search_text=\"*\")\n",
    "for result in results:\n",
    "    chunk_id = result['chunk_id']\n",
    "    title = os.path.splitext(result['title'])[0]\n",
    "    blob_url = blob_map.get(title)\n",
    "    update_blob_storage_url(chunk_id, blob_url)\n",
    "    print(f'updating {title}: {blob_map.get(title)}')"
   ]
  }
 ],
 "metadata": {
  "kernelspec": {
   "display_name": ".venv",
   "language": "python",
   "name": "python3"
  },
  "language_info": {
   "codemirror_mode": {
    "name": "ipython",
    "version": 3
   },
   "file_extension": ".py",
   "mimetype": "text/x-python",
   "name": "python",
   "nbconvert_exporter": "python",
   "pygments_lexer": "ipython3",
   "version": "3.12.1"
  }
 },
 "nbformat": 4,
 "nbformat_minor": 2
}
