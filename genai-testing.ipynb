{
 "cells": [
  {
   "cell_type": "markdown",
   "metadata": {},
   "source": [
    "### Initialize Notebook"
   ]
  },
  {
   "cell_type": "code",
   "execution_count": 1,
   "metadata": {},
   "outputs": [
    {
     "name": "stdout",
     "output_type": "stream",
     "text": [
      "Requirement already satisfied: requests in ./.venv/lib/python3.12/site-packages (2.32.3)\n",
      "Requirement already satisfied: charset-normalizer<4,>=2 in ./.venv/lib/python3.12/site-packages (from requests) (3.3.2)\n",
      "Requirement already satisfied: idna<4,>=2.5 in ./.venv/lib/python3.12/site-packages (from requests) (3.7)\n",
      "Requirement already satisfied: urllib3<3,>=1.21.1 in ./.venv/lib/python3.12/site-packages (from requests) (2.2.2)\n",
      "Requirement already satisfied: certifi>=2017.4.17 in ./.venv/lib/python3.12/site-packages (from requests) (2024.7.4)\n",
      "Note: you may need to restart the kernel to use updated packages.\n",
      "Requirement already satisfied: pandas in ./.venv/lib/python3.12/site-packages (2.2.2)\n",
      "Requirement already satisfied: numpy>=1.26.0 in ./.venv/lib/python3.12/site-packages (from pandas) (1.26.4)\n",
      "Requirement already satisfied: python-dateutil>=2.8.2 in ./.venv/lib/python3.12/site-packages (from pandas) (2.9.0.post0)\n",
      "Requirement already satisfied: pytz>=2020.1 in ./.venv/lib/python3.12/site-packages (from pandas) (2024.1)\n",
      "Requirement already satisfied: tzdata>=2022.7 in ./.venv/lib/python3.12/site-packages (from pandas) (2024.1)\n",
      "Requirement already satisfied: six>=1.5 in ./.venv/lib/python3.12/site-packages (from python-dateutil>=2.8.2->pandas) (1.16.0)\n",
      "Note: you may need to restart the kernel to use updated packages.\n",
      "Requirement already satisfied: matplotlib in ./.venv/lib/python3.12/site-packages (3.9.1)\n",
      "Requirement already satisfied: contourpy>=1.0.1 in ./.venv/lib/python3.12/site-packages (from matplotlib) (1.2.1)\n",
      "Requirement already satisfied: cycler>=0.10 in ./.venv/lib/python3.12/site-packages (from matplotlib) (0.12.1)\n",
      "Requirement already satisfied: fonttools>=4.22.0 in ./.venv/lib/python3.12/site-packages (from matplotlib) (4.53.1)\n",
      "Requirement already satisfied: kiwisolver>=1.3.1 in ./.venv/lib/python3.12/site-packages (from matplotlib) (1.4.5)\n",
      "Requirement already satisfied: numpy>=1.23 in ./.venv/lib/python3.12/site-packages (from matplotlib) (1.26.4)\n",
      "Requirement already satisfied: packaging>=20.0 in ./.venv/lib/python3.12/site-packages (from matplotlib) (24.1)\n",
      "Requirement already satisfied: pillow>=8 in ./.venv/lib/python3.12/site-packages (from matplotlib) (10.4.0)\n",
      "Requirement already satisfied: pyparsing>=2.3.1 in ./.venv/lib/python3.12/site-packages (from matplotlib) (3.1.2)\n",
      "Requirement already satisfied: python-dateutil>=2.7 in ./.venv/lib/python3.12/site-packages (from matplotlib) (2.9.0.post0)\n",
      "Requirement already satisfied: six>=1.5 in ./.venv/lib/python3.12/site-packages (from python-dateutil>=2.7->matplotlib) (1.16.0)\n",
      "Note: you may need to restart the kernel to use updated packages.\n",
      "Requirement already satisfied: openai in ./.venv/lib/python3.12/site-packages (1.37.0)\n",
      "Requirement already satisfied: anyio<5,>=3.5.0 in ./.venv/lib/python3.12/site-packages (from openai) (4.4.0)\n",
      "Requirement already satisfied: distro<2,>=1.7.0 in ./.venv/lib/python3.12/site-packages (from openai) (1.9.0)\n",
      "Requirement already satisfied: httpx<1,>=0.23.0 in ./.venv/lib/python3.12/site-packages (from openai) (0.27.0)\n",
      "Requirement already satisfied: pydantic<3,>=1.9.0 in ./.venv/lib/python3.12/site-packages (from openai) (2.8.2)\n",
      "Requirement already satisfied: sniffio in ./.venv/lib/python3.12/site-packages (from openai) (1.3.1)\n",
      "Requirement already satisfied: tqdm>4 in ./.venv/lib/python3.12/site-packages (from openai) (4.66.4)\n",
      "Requirement already satisfied: typing-extensions<5,>=4.7 in ./.venv/lib/python3.12/site-packages (from openai) (4.12.2)\n",
      "Requirement already satisfied: idna>=2.8 in ./.venv/lib/python3.12/site-packages (from anyio<5,>=3.5.0->openai) (3.7)\n",
      "Requirement already satisfied: certifi in ./.venv/lib/python3.12/site-packages (from httpx<1,>=0.23.0->openai) (2024.7.4)\n",
      "Requirement already satisfied: httpcore==1.* in ./.venv/lib/python3.12/site-packages (from httpx<1,>=0.23.0->openai) (1.0.5)\n",
      "Requirement already satisfied: h11<0.15,>=0.13 in ./.venv/lib/python3.12/site-packages (from httpcore==1.*->httpx<1,>=0.23.0->openai) (0.14.0)\n",
      "Requirement already satisfied: annotated-types>=0.4.0 in ./.venv/lib/python3.12/site-packages (from pydantic<3,>=1.9.0->openai) (0.7.0)\n",
      "Requirement already satisfied: pydantic-core==2.20.1 in ./.venv/lib/python3.12/site-packages (from pydantic<3,>=1.9.0->openai) (2.20.1)\n",
      "Note: you may need to restart the kernel to use updated packages.\n",
      "Requirement already satisfied: python-dotenv in ./.venv/lib/python3.12/site-packages (1.0.1)\n",
      "Note: you may need to restart the kernel to use updated packages.\n"
     ]
    }
   ],
   "source": [
    "%pip install requests\n",
    "%pip install pandas\n",
    "%pip install matplotlib\n",
    "%pip install openai\n",
    "%pip install python-dotenv"
   ]
  },
  {
   "cell_type": "code",
   "execution_count": 1,
   "metadata": {},
   "outputs": [],
   "source": [
    "import os\n",
    "import dotenv\n",
    "import json\n",
    "import requests\n",
    "\n",
    "dotenv.load_dotenv()\n",
    "\n",
    "resource_group = os.getenv(\"RESOURCE_GROUP\")\n",
    "subscription_id = os.getenv(\"SUBSCRIPTION_ID\")\n",
    "apim_eus_resource_url = os.getenv(\"APIM_EUS_RESOURCE_URL\")\n",
    "apim_wus_resource_url = os.getenv(\"APIM_WUS_RESOURCE_URL\")\n",
    "apim_subscription_key = os.getenv(\"APIM_SUBSCRIPTION_KEY\")\n",
    "openai_deployment_name = os.getenv(\"OPENAI_DEPLOYMENT_NAME\")\n",
    "openai_model_name = os.getenv(\"OPENAI_MODEL_NAME\")\n",
    "openai_api_version = os.getenv(\"OPENAI_API_VERSION\")\n",
    "app_insights_app_id = os.getenv(\"APP_INSIGHTS_APP_ID\")"
   ]
  },
  {
   "cell_type": "markdown",
   "metadata": {},
   "source": [
    "### Token Limit Policy"
   ]
  },
  {
   "cell_type": "markdown",
   "metadata": {},
   "source": [
    "1. Test API Token"
   ]
  },
  {
   "cell_type": "code",
   "execution_count": 3,
   "metadata": {},
   "outputs": [
    {
     "name": "stdout",
     "output_type": "stream",
     "text": [
      "▶️ Run:  1 status code:  200 ✅\n",
      "💬  Of course! Did you know that the Great Wall of China, one of the most iconic and ambitious construction projects in human history, stretches over approximately 13,171 miles (21,196 kilometers)? This colossal structure wasn't built all at once; rather, it was constructed in various segments over several dynasties. \n",
      "\n",
      "The origins of the Great Wall can be traced back to as early as the 7th century BCE, during the Warring States period, when various feudal states built defensive walls to protect their territories from invasions by rival states and nomadic tribes. However, the most famous sections of the wall were built during the Ming Dynasty (1368–1644), when the rulers embarked on an extensive construction project to fortify the northern borders of China against invasions by the Mongols and other nomadic groups from the Eurasian Steppe. \n",
      "\n",
      "Constructed using a combination of brick, tamped earth, wood, and stone, the Great Wall winds its way through diverse and often challenging terrains, from mountains and deserts to plateaus and grasslands. In addition to the wall itself, the complex defense system includes watchtowers, signal towers, garrison stations, and fortresses, all ingeniously designed to allow for surveillance, communication, and rapid deployment of troops.\n",
      "\n",
      "Contrary to popular belief, the Great Wall is not a single continuous structure but rather a series of walls and fortifications that were built, connected, and rebuilt over the centuries. Moreover, the myth that the Great Wall is visible from space with the naked eye has been debunked. While it is a monumental feat of engineering, the wall's materials and the fact that it blends into the natural landscape make it difficult to discern without aid from advanced imaging technology.\n",
      "\n",
      "Today, the Great Wall of China stands as a symbol of the ingenuity, determination, and collaborative spirit of countless laborers, soldiers, and artisans who toiled over centuries to create this marvel. It attracts millions of visitors from around the globe who come to walk along its storied pathways, marvel at its sheer scale, and reflect on the rich tapestry of history it embodies.\n",
      "▶️ Run:  2 status code:  200 ✅\n",
      "💬  Certainly! Here’s an interesting and detailed fact for you:\n",
      "\n",
      "Did you know that the honeybee, specifically the Apis mellifera, plays a crucial role in global agriculture, and their influence extends far beyond merely producing honey? These small but mighty insects are responsible for pollinating approximately 70 out of the top 100 human food crops, which supply about 90% of the world's nutrition. This includes a wide variety of fruits, vegetables, nuts, and seeds. Each honeybee colony can contain anywhere from 20,000 to 60,000 bees, all working together in an incredibly organized and sophisticated system.\n",
      "\n",
      "The division of labor in a honeybee colony is quite fascinating. There are three types of bees: the queen, the workers, and the drones. The queen's primary role is to lay eggs - she can lay up to 2,000 eggs per day at her peak! Worker bees are all females and they take on various roles throughout their lives, such as foraging for nectar and pollen, caring for the queen and her brood, cleaning the hive, and guarding it against intruders. Drones, the male bees, have the sole role of mating with a new queen.\n",
      "\n",
      "The process of pollination itself is a marvel of nature. When a honeybee lands on a flower to collect nectar, tiny grains of pollen stick to its hairy body. As the bee moves from flower to flower, it transfers pollen between them, facilitating the cross-pollination that many plants require to produce fruits and seeds. This not only enhances biodiversity but also improves the quality and yields of crops.\n",
      "\n",
      "However, honeybees face numerous threats, including habitat loss, pesticides, climate change, and diseases like the varroa mite. These challenges have led to significant declines in honeybee populations in recent years, sparking global concern. Efforts to protect and promote bee health include planting bee-friendly gardens, reducing pesticide use, and supporting sustainable agricultural practices.\n",
      "\n",
      "The symbiotic relationship between honeybees and agriculture is an outstanding example of nature’s intricate interdependencies, underscoring the importance of these tiny workers in supporting the food systems that sustain human life.\n",
      "▶️ Run:  3 status code:  200 ✅\n",
      "💬  Certainly! Let me tell you about the fascinating history of the Library of Alexandria, one of the most famous libraries of the ancient world.\n",
      "\n",
      "The Library of Alexandria, often hailed as the greatest library of antiquity, was established in Alexandria, Egypt, during the 3rd century BCE. It was part of a larger research institution known as the Museum of Alexandria, which was dedicated to the Muses, the goddesses of the arts and sciences in Greek mythology. Ptolemy I Soter, a general and successor of Alexander the Great, is generally credited with the founding of the library, though his son, Ptolemy II Philadelphus, played a significant role in its expansion.\n",
      "\n",
      "The Library of Alexandria was more than just a repository of books; it was a center of learning and scholarship. Scholars, philosophers, scientists, and poets from across the Hellenistic world converged at the library to conduct research, study, and debate. Among its notable scholars were Euclid, the father of geometry, and Archimedes, the brilliant mathematician and engineer.\n",
      "\n",
      "The library's collection was vast and diverse, encompassing works from a wide range of fields, including mathematics, astronomy, physics, natural sciences, literature, and philosophy. The Ptolemaic rulers were zealous in their efforts to acquire texts from all over the known world. Agents were dispatched to purchase or copy works from other libraries, and in some cases, texts were even requisitioned from ships that docked in Alexandria's harbor.\n",
      "\n",
      "One of the library's most intriguing practices was its ambition to collect every book in existence. According to some historical accounts, all visitors to Alexandria were required to surrender any books in their possession, which were then copied. The original texts were kept in the library, and the copies were returned to their owners. This relentless pursuit of knowledge contributed to the library's unmatched collection.\n",
      "\n",
      "Unfortunately, the Library of Alexandria's fate was marred by a series of tragic events. The library suffered from multiple fires and acts of destruction over several centuries. One of the most infamous incidents occurred in 48 BCE when Julius Caesar's troops set fire to the ships in Alexandria's harbor, and the resulting conflagration spread to parts of the city, damaging the library. Although the extent of the damage is debated by historians, it is clear that the library experienced significant losses.\n",
      "\n",
      "The final decline of the Library of Alexandria remains a subject of historical debate, with various accounts suggesting different causes, including further fires, religious decrees, and military actions. By the end of the 4th century CE, the library had effectively ceased to exist, marking the end of an era of unprecedented intellectual achievement.\n",
      "\n",
      "The legacy of the Library of Alexandria, however, endures. It remains a symbol of the relentless human quest for knowledge and the profound impact that a dedicated center of learning can have on civilization. Its story continues to inspire scholars and researchers, reminding us of the importance of preserving and sharing knowledge for the betterment of humanity.\n",
      "▶️ Run:  4 status code:  429 ⛔\n",
      "{ \"statusCode\": 429, \"message\": \"Token limit is exceeded. Try again in 54 seconds.\" }\n",
      "▶️ Run:  5 status code:  429 ⛔\n",
      "{ \"statusCode\": 429, \"message\": \"Token limit is exceeded. Try again in 53 seconds.\" }\n",
      "▶️ Run:  6 status code:  429 ⛔\n",
      "{ \"statusCode\": 429, \"message\": \"Token limit is exceeded. Try again in 53 seconds.\" }\n",
      "▶️ Run:  7 status code:  429 ⛔\n",
      "{ \"statusCode\": 429, \"message\": \"Token limit is exceeded. Try again in 53 seconds.\" }\n",
      "▶️ Run:  8 status code:  429 ⛔\n",
      "{ \"statusCode\": 429, \"message\": \"Token limit is exceeded. Try again in 53 seconds.\" }\n",
      "▶️ Run:  9 status code:  429 ⛔\n",
      "{ \"statusCode\": 429, \"message\": \"Token limit is exceeded. Try again in 53 seconds.\" }\n",
      "▶️ Run:  10 status code:  429 ⛔\n",
      "{ \"statusCode\": 429, \"message\": \"Token limit is exceeded. Try again in 53 seconds.\" }\n"
     ]
    }
   ],
   "source": [
    "url = apim_eus_resource_url + \"/openai/deployments/\" + openai_deployment_name + \"/chat/completions?api-version=\" + openai_api_version\n",
    "api_runs = []\n",
    "for i in range(10):\n",
    "    messages={\"messages\":[\n",
    "        {\"role\": \"system\", \"content\": \"You are an intelligent assistant.\"},\n",
    "        {\"role\": \"user\", \"content\": \"Can you tell me a long winded fact?\"}\n",
    "    ]}\n",
    "    response = requests.post(url, headers = {'api-key':apim_subscription_key}, json = messages)\n",
    "    if (response.status_code == 200):\n",
    "        print(\"▶️ Run: \", i+1, \"status code: \", response.status_code, \"✅\")\n",
    "        data = json.loads(response.text)\n",
    "        total_tokens = data.get(\"usage\").get(\"total_tokens\")\n",
    "        print(\"💬 \", data.get(\"choices\")[0].get(\"message\").get(\"content\"))\n",
    "    else:\n",
    "        print(\"▶️ Run: \", i+1, \"status code: \", response.status_code, \"⛔\")\n",
    "        print(response.text)\n",
    "        total_tokens = 0\n",
    "    api_runs.append((total_tokens, response.status_code))\n"
   ]
  },
  {
   "cell_type": "markdown",
   "metadata": {},
   "source": [
    "2. Analyze results"
   ]
  },
  {
   "cell_type": "code",
   "execution_count": 4,
   "metadata": {},
   "outputs": [
    {
     "data": {
      "image/png": "[encoded data removed]",
      "text/plain": [
       "<Figure size 1500x700 with 1 Axes>"
      ]
     },
     "metadata": {},
     "output_type": "display_data"
    }
   ],
   "source": [
    "# plot the results\n",
    "import pandas as pd\n",
    "import matplotlib.pyplot as plt\n",
    "import matplotlib as mpl\n",
    "\n",
    "mpl.rcParams['figure.figsize'] = [15, 7]\n",
    "df = pd.DataFrame(api_runs, columns=['Tokens', 'Status Code'])\n",
    "df['Run'] = range(1, len(df) + 1)\n",
    "colors = ['red' if str(code).startswith('5') else 'yellow' if str(code).startswith('4') else 'lightblue' for code in df['Status Code']]\n",
    "ax = df.plot(kind='bar', x='Run', y='Tokens', color=colors, legend=False)\n",
    "plt.title('Rate Limiting results')\n",
    "plt.xlabel('Runs')\n",
    "plt.ylabel('Tokens')\n",
    "plt.xticks(df['Run'], rotation=0)\n",
    "for i, val in enumerate(df['Status Code']):\n",
    "    ax.text(i, 20, '' if int(val) == 200 else 'Status:429', ha='center', va='bottom')\n",
    "for i, val in enumerate(df['Tokens']):\n",
    "    ax.text(i, df['Tokens'][i] + 5, '' if int(val) == 0 else int(val), ha='center', va='bottom')\n",
    "accumulated_tokens = df['Tokens'].cumsum()\n",
    "ax.plot(df['Run']-1, accumulated_tokens, color='green', label='Accumulated Tokens')\n",
    "for i, val in enumerate(accumulated_tokens):\n",
    "    ax.text(i, val + 6, int(val), ha='center', va='bottom', label='Accumulated Tokens')\n",
    "plt.show()"
   ]
  },
  {
   "cell_type": "markdown",
   "metadata": {},
   "source": [
    "### 🔍 Token Emit Policy - App Insights"
   ]
  },
  {
   "cell_type": "markdown",
   "metadata": {},
   "source": [
    "Example\n",
    "\n",
    "```\n",
    "<azure-openai-emit-token-metric namespace=\"openaiTeamA\">\n",
    "            <dimension name=\"Subscription ID\" value=\"@(context.Subscription.Id)\" /> \n",
    "            <dimension name=\"Client IP\" value=\"@(context.Request.IpAddress)\" />\n",
    "            <!--  <dimension name=\"API ID\" value=\"@(context.Variables.GetValueOrDefault('extractedApiId', 'N/A'))\" /> -->\n",
    "            <dimension name=\"User ID\" value=\"@(context.Request.Headers.GetValueOrDefault(\"x-user-id\", \"N/A\"))\" />\n",
    "        </azure-openai-emit-token-metric>\n",
    "```"
   ]
  },
  {
   "cell_type": "markdown",
   "metadata": {},
   "source": [
    "<a id='plot'></a> \n",
    "### 🔍 Load Balancing & Circuit breaking"
   ]
  },
  {
   "cell_type": "markdown",
   "metadata": {},
   "source": [
    "LB Types\n",
    "1. Round Robin\n",
    "2. Weighted\n",
    "3. Priority"
   ]
  },
  {
   "cell_type": "code",
   "execution_count": 5,
   "metadata": {},
   "outputs": [
    {
     "name": "stdout",
     "output_type": "stream",
     "text": [
      "\u001b[93m/Users/jimmyshah/workspace/azure-ai-notebooks/infrastructure/lb-ai-gateway.bicep(71,3) : Warning BCP035: The specified \"object\" declaration is missing the following required properties: \"protocol\", \"url\". If this is an inaccuracy in the documentation, please report it to the Bicep Team. [https://aka.ms/bicep-type-issues]\n",
      "\u001b[0m\n",
      "\u001b[K{- Finished ..\u001b[K - Starting ..\n",
      "  \"id\": \"/subscriptions/c72983e8-50a6-45fe-a344-c897e45e10a7/resourceGroups/rg-cc-interac-demo/providers/Microsoft.Resources/deployments/lb-ai-gateway\",\n",
      "  \"location\": null,\n",
      "  \"name\": \"lb-ai-gateway\",\n",
      "  \"properties\": {\n",
      "    \"correlationId\": \"d57dc7dc-9cda-4ec1-b4f0-b4f388b96fda\",\n",
      "    \"debugSetting\": null,\n",
      "    \"dependencies\": [\n",
      "      {\n",
      "        \"dependsOn\": [\n",
      "          {\n",
      "            \"id\": \"/subscriptions/c72983e8-50a6-45fe-a344-c897e45e10a7/resourceGroups/rg-cc-interac-demo/providers/Microsoft.ApiManagement/service/apim-js-genai-gateway-demo\",\n",
      "            \"resourceGroup\": \"rg-cc-interac-demo\",\n",
      "            \"resourceName\": \"apim-js-genai-gateway-demo\",\n",
      "            \"resourceType\": \"Microsoft.ApiManagement/service\"\n",
      "          }\n",
      "        ],\n",
      "        \"id\": \"/subscriptions/c72983e8-50a6-45fe-a344-c897e45e10a7/resourceGroups/rg-cc-interac-demo/providers/Microsoft.ApiManagement/service/apim-js-genai-gateway-demo/backends/eus-genai-openai-endpoint\",\n",
      "        \"resourceGroup\": \"rg-cc-interac-demo\",\n",
      "        \"resourceName\": \"apim-js-genai-gateway-demo/eus-genai-openai-endpoint\",\n",
      "        \"resourceType\": \"Microsoft.ApiManagement/service/backends\"\n",
      "      },\n",
      "      {\n",
      "        \"dependsOn\": [\n",
      "          {\n",
      "            \"id\": \"/subscriptions/c72983e8-50a6-45fe-a344-c897e45e10a7/resourceGroups/rg-cc-interac-demo/providers/Microsoft.ApiManagement/service/apim-js-genai-gateway-demo\",\n",
      "            \"resourceGroup\": \"rg-cc-interac-demo\",\n",
      "            \"resourceName\": \"apim-js-genai-gateway-demo\",\n",
      "            \"resourceType\": \"Microsoft.ApiManagement/service\"\n",
      "          }\n",
      "        ],\n",
      "        \"id\": \"/subscriptions/c72983e8-50a6-45fe-a344-c897e45e10a7/resourceGroups/rg-cc-interac-demo/providers/Microsoft.ApiManagement/service/apim-js-genai-gateway-demo/backends/wus-genai-openai-endpoint\",\n",
      "        \"resourceGroup\": \"rg-cc-interac-demo\",\n",
      "        \"resourceName\": \"apim-js-genai-gateway-demo/wus-genai-openai-endpoint\",\n",
      "        \"resourceType\": \"Microsoft.ApiManagement/service/backends\"\n",
      "      },\n",
      "      {\n",
      "        \"dependsOn\": [\n",
      "          {\n",
      "            \"id\": \"/subscriptions/c72983e8-50a6-45fe-a344-c897e45e10a7/resourceGroups/rg-cc-interac-demo/providers/Microsoft.ApiManagement/service/apim-js-genai-gateway-demo\",\n",
      "            \"resourceGroup\": \"rg-cc-interac-demo\",\n",
      "            \"resourceName\": \"apim-js-genai-gateway-demo\",\n",
      "            \"resourceType\": \"Microsoft.ApiManagement/service\"\n",
      "          },\n",
      "          {\n",
      "            \"id\": \"/subscriptions/c72983e8-50a6-45fe-a344-c897e45e10a7/resourceGroups/rg-cc-interac-demo/providers/Microsoft.ApiManagement/service/apim-js-genai-gateway-demo/backends/eus-genai-openai-endpoint\",\n",
      "            \"resourceGroup\": \"rg-cc-interac-demo\",\n",
      "            \"resourceName\": \"apim-js-genai-gateway-demo/eus-genai-openai-endpoint\",\n",
      "            \"resourceType\": \"Microsoft.ApiManagement/service/backends\"\n",
      "          },\n",
      "          {\n",
      "            \"id\": \"/subscriptions/c72983e8-50a6-45fe-a344-c897e45e10a7/resourceGroups/rg-cc-interac-demo/providers/Microsoft.ApiManagement/service/apim-js-genai-gateway-demo/backends/wus-genai-openai-endpoint\",\n",
      "            \"resourceGroup\": \"rg-cc-interac-demo\",\n",
      "            \"resourceName\": \"apim-js-genai-gateway-demo/wus-genai-openai-endpoint\",\n",
      "            \"resourceType\": \"Microsoft.ApiManagement/service/backends\"\n",
      "          }\n",
      "        ],\n",
      "        \"id\": \"/subscriptions/c72983e8-50a6-45fe-a344-c897e45e10a7/resourceGroups/rg-cc-interac-demo/providers/Microsoft.ApiManagement/service/apim-js-genai-gateway-demo/backends/openai-backend-pool\",\n",
      "        \"resourceGroup\": \"rg-cc-interac-demo\",\n",
      "        \"resourceName\": \"apim-js-genai-gateway-demo/openai-backend-pool\",\n",
      "        \"resourceType\": \"Microsoft.ApiManagement/service/backends\"\n",
      "      }\n",
      "    ],\n",
      "    \"duration\": \"PT25.1779477S\",\n",
      "    \"error\": null,\n",
      "    \"mode\": \"Incremental\",\n",
      "    \"onErrorDeployment\": null,\n",
      "    \"outputResources\": [\n",
      "      {\n",
      "        \"id\": \"/subscriptions/c72983e8-50a6-45fe-a344-c897e45e10a7/resourceGroups/rg-cc-interac-demo/providers/Microsoft.ApiManagement/service/apim-js-genai-gateway-demo\",\n",
      "        \"resourceGroup\": \"rg-cc-interac-demo\"\n",
      "      },\n",
      "      {\n",
      "        \"id\": \"/subscriptions/c72983e8-50a6-45fe-a344-c897e45e10a7/resourceGroups/rg-cc-interac-demo/providers/Microsoft.ApiManagement/service/apim-js-genai-gateway-demo/backends/eus-genai-openai-endpoint\",\n",
      "        \"resourceGroup\": \"rg-cc-interac-demo\"\n",
      "      },\n",
      "      {\n",
      "        \"id\": \"/subscriptions/c72983e8-50a6-45fe-a344-c897e45e10a7/resourceGroups/rg-cc-interac-demo/providers/Microsoft.ApiManagement/service/apim-js-genai-gateway-demo/backends/openai-backend-pool\",\n",
      "        \"resourceGroup\": \"rg-cc-interac-demo\"\n",
      "      },\n",
      "      {\n",
      "        \"id\": \"/subscriptions/c72983e8-50a6-45fe-a344-c897e45e10a7/resourceGroups/rg-cc-interac-demo/providers/Microsoft.ApiManagement/service/apim-js-genai-gateway-demo/backends/wus-genai-openai-endpoint\",\n",
      "        \"resourceGroup\": \"rg-cc-interac-demo\"\n",
      "      }\n",
      "    ],\n",
      "    \"outputs\": null,\n",
      "    \"parameters\": {\n",
      "      \"location\": {\n",
      "        \"type\": \"String\",\n",
      "        \"value\": \"eastus\"\n",
      "      },\n",
      "      \"openAIBackendPoolDescription\": {\n",
      "        \"type\": \"String\",\n",
      "        \"value\": \"Load balancer for multiple OpenAI endpoints\"\n",
      "      },\n",
      "      \"openAIBackendPoolName\": {\n",
      "        \"type\": \"String\",\n",
      "        \"value\": \"openai-backend-pool\"\n",
      "      }\n",
      "    },\n",
      "    \"parametersLink\": null,\n",
      "    \"providers\": [\n",
      "      {\n",
      "        \"id\": null,\n",
      "        \"namespace\": \"Microsoft.ApiManagement\",\n",
      "        \"providerAuthorizationConsentState\": null,\n",
      "        \"registrationPolicy\": null,\n",
      "        \"registrationState\": null,\n",
      "        \"resourceTypes\": [\n",
      "          {\n",
      "            \"aliases\": null,\n",
      "            \"apiProfiles\": null,\n",
      "            \"apiVersions\": null,\n",
      "            \"capabilities\": null,\n",
      "            \"defaultApiVersion\": null,\n",
      "            \"locationMappings\": null,\n",
      "            \"locations\": [\n",
      "              \"eastus\"\n",
      "            ],\n",
      "            \"properties\": null,\n",
      "            \"resourceType\": \"service\",\n",
      "            \"zoneMappings\": null\n",
      "          },\n",
      "          {\n",
      "            \"aliases\": null,\n",
      "            \"apiProfiles\": null,\n",
      "            \"apiVersions\": null,\n",
      "            \"capabilities\": null,\n",
      "            \"defaultApiVersion\": null,\n",
      "            \"locationMappings\": null,\n",
      "            \"locations\": [\n",
      "              null\n",
      "            ],\n",
      "            \"properties\": null,\n",
      "            \"resourceType\": \"service/backends\",\n",
      "            \"zoneMappings\": null\n",
      "          }\n",
      "        ]\n",
      "      }\n",
      "    ],\n",
      "    \"provisioningState\": \"Succeeded\",\n",
      "    \"templateHash\": \"17448568047509747468\",\n",
      "    \"templateLink\": null,\n",
      "    \"timestamp\": \"2024-08-07T17:07:46.988356+00:00\",\n",
      "    \"validatedResources\": null\n",
      "  },\n",
      "  \"resourceGroup\": \"rg-cc-interac-demo\",\n",
      "  \"tags\": null,\n",
      "  \"type\": \"Microsoft.Resources/deployments\"\n",
      "}\n"
     ]
    }
   ],
   "source": [
    "! az deployment group create --resource-group {resource_group} --template-file \"infrastructure/lb-ai-gateway.bicep\""
   ]
  },
  {
   "cell_type": "markdown",
   "metadata": {},
   "source": [
    "## Test LB"
   ]
  },
  {
   "cell_type": "code",
   "execution_count": 8,
   "metadata": {},
   "outputs": [
    {
     "ename": "KeyboardInterrupt",
     "evalue": "",
     "output_type": "error",
     "traceback": [
      "\u001b[0;31m---------------------------------------------------------------------------\u001b[0m",
      "\u001b[0;31mKeyboardInterrupt\u001b[0m                         Traceback (most recent call last)",
      "Cell \u001b[0;32mIn[8], line 1\u001b[0m\n\u001b[0;32m----> 1\u001b[0m url \u001b[38;5;241m=\u001b[39m \u001b[43mapim_eus_resource_url\u001b[49m \u001b[38;5;241m+\u001b[39m \u001b[38;5;124m\"\u001b[39m\u001b[38;5;124m/openai/deployments/\u001b[39m\u001b[38;5;124m\"\u001b[39m \u001b[38;5;241m+\u001b[39m openai_deployment_name \u001b[38;5;241m+\u001b[39m \u001b[38;5;124m\"\u001b[39m\u001b[38;5;124m/chat/completions?api-version=\u001b[39m\u001b[38;5;124m\"\u001b[39m \u001b[38;5;241m+\u001b[39m openai_api_version\n\u001b[1;32m      2\u001b[0m messages\u001b[38;5;241m=\u001b[39m{\u001b[38;5;124m\"\u001b[39m\u001b[38;5;124mmessages\u001b[39m\u001b[38;5;124m\"\u001b[39m:[\n\u001b[1;32m      3\u001b[0m     {\u001b[38;5;124m\"\u001b[39m\u001b[38;5;124mrole\u001b[39m\u001b[38;5;124m\"\u001b[39m: \u001b[38;5;124m\"\u001b[39m\u001b[38;5;124msystem\u001b[39m\u001b[38;5;124m\"\u001b[39m, \u001b[38;5;124m\"\u001b[39m\u001b[38;5;124mcontent\u001b[39m\u001b[38;5;124m\"\u001b[39m: \u001b[38;5;124m\"\u001b[39m\u001b[38;5;124mYou are a sarcastic unhelpful assistant.\u001b[39m\u001b[38;5;124m\"\u001b[39m},\n\u001b[1;32m      4\u001b[0m     {\u001b[38;5;124m\"\u001b[39m\u001b[38;5;124mrole\u001b[39m\u001b[38;5;124m\"\u001b[39m: \u001b[38;5;124m\"\u001b[39m\u001b[38;5;124muser\u001b[39m\u001b[38;5;124m\"\u001b[39m, \u001b[38;5;124m\"\u001b[39m\u001b[38;5;124mcontent\u001b[39m\u001b[38;5;124m\"\u001b[39m: \u001b[38;5;124m\"\u001b[39m\u001b[38;5;124mCan you tell me the time, please?\u001b[39m\u001b[38;5;124m\"\u001b[39m}\n\u001b[1;32m      5\u001b[0m     ]}\n\u001b[1;32m      6\u001b[0m response \u001b[38;5;241m=\u001b[39m requests\u001b[38;5;241m.\u001b[39mpost(url, headers \u001b[38;5;241m=\u001b[39m {\u001b[38;5;124m'\u001b[39m\u001b[38;5;124mapi-key\u001b[39m\u001b[38;5;124m'\u001b[39m:apim_subscription_key}, json \u001b[38;5;241m=\u001b[39m messages)\n",
      "File \u001b[0;32m~/workspace/azure-ai-notebooks/.venv/lib/python3.12/site-packages/debugpy/_vendored/pydevd/_pydevd_bundle/pydevd_frame.py:988\u001b[0m, in \u001b[0;36mPyDBFrame.trace_dispatch\u001b[0;34m(self, frame, event, arg)\u001b[0m\n\u001b[1;32m    986\u001b[0m \u001b[38;5;66;03m# if thread has a suspend flag, we suspend with a busy wait\u001b[39;00m\n\u001b[1;32m    987\u001b[0m \u001b[38;5;28;01mif\u001b[39;00m info\u001b[38;5;241m.\u001b[39mpydev_state \u001b[38;5;241m==\u001b[39m STATE_SUSPEND:\n\u001b[0;32m--> 988\u001b[0m     \u001b[38;5;28;43mself\u001b[39;49m\u001b[38;5;241;43m.\u001b[39;49m\u001b[43mdo_wait_suspend\u001b[49m\u001b[43m(\u001b[49m\u001b[43mthread\u001b[49m\u001b[43m,\u001b[49m\u001b[43m \u001b[49m\u001b[43mframe\u001b[49m\u001b[43m,\u001b[49m\u001b[43m \u001b[49m\u001b[43mevent\u001b[49m\u001b[43m,\u001b[49m\u001b[43m \u001b[49m\u001b[43marg\u001b[49m\u001b[43m)\u001b[49m\n\u001b[1;32m    989\u001b[0m     \u001b[38;5;28;01mreturn\u001b[39;00m \u001b[38;5;28mself\u001b[39m\u001b[38;5;241m.\u001b[39mtrace_dispatch\n\u001b[1;32m    990\u001b[0m \u001b[38;5;28;01melse\u001b[39;00m:\n",
      "File \u001b[0;32m~/workspace/azure-ai-notebooks/.venv/lib/python3.12/site-packages/debugpy/_vendored/pydevd/_pydevd_bundle/pydevd_frame.py:165\u001b[0m, in \u001b[0;36mPyDBFrame.do_wait_suspend\u001b[0;34m(self, *args, **kwargs)\u001b[0m\n\u001b[1;32m    164\u001b[0m \u001b[38;5;28;01mdef\u001b[39;00m \u001b[38;5;21mdo_wait_suspend\u001b[39m(\u001b[38;5;28mself\u001b[39m, \u001b[38;5;241m*\u001b[39margs, \u001b[38;5;241m*\u001b[39m\u001b[38;5;241m*\u001b[39mkwargs):\n\u001b[0;32m--> 165\u001b[0m     \u001b[38;5;28;43mself\u001b[39;49m\u001b[38;5;241;43m.\u001b[39;49m\u001b[43m_args\u001b[49m\u001b[43m[\u001b[49m\u001b[38;5;241;43m0\u001b[39;49m\u001b[43m]\u001b[49m\u001b[38;5;241;43m.\u001b[39;49m\u001b[43mdo_wait_suspend\u001b[49m\u001b[43m(\u001b[49m\u001b[38;5;241;43m*\u001b[39;49m\u001b[43margs\u001b[49m\u001b[43m,\u001b[49m\u001b[43m \u001b[49m\u001b[38;5;241;43m*\u001b[39;49m\u001b[38;5;241;43m*\u001b[39;49m\u001b[43mkwargs\u001b[49m\u001b[43m)\u001b[49m\n",
      "File \u001b[0;32m~/workspace/azure-ai-notebooks/.venv/lib/python3.12/site-packages/debugpy/_vendored/pydevd/pydevd.py:2070\u001b[0m, in \u001b[0;36mPyDB.do_wait_suspend\u001b[0;34m(self, thread, frame, event, arg, exception_type)\u001b[0m\n\u001b[1;32m   2067\u001b[0m             from_this_thread\u001b[38;5;241m.\u001b[39mappend(frame_custom_thread_id)\n\u001b[1;32m   2069\u001b[0m     \u001b[38;5;28;01mwith\u001b[39;00m \u001b[38;5;28mself\u001b[39m\u001b[38;5;241m.\u001b[39m_threads_suspended_single_notification\u001b[38;5;241m.\u001b[39mnotify_thread_suspended(thread_id, thread, stop_reason):\n\u001b[0;32m-> 2070\u001b[0m         keep_suspended \u001b[38;5;241m=\u001b[39m \u001b[38;5;28;43mself\u001b[39;49m\u001b[38;5;241;43m.\u001b[39;49m\u001b[43m_do_wait_suspend\u001b[49m\u001b[43m(\u001b[49m\u001b[43mthread\u001b[49m\u001b[43m,\u001b[49m\u001b[43m \u001b[49m\u001b[43mframe\u001b[49m\u001b[43m,\u001b[49m\u001b[43m \u001b[49m\u001b[43mevent\u001b[49m\u001b[43m,\u001b[49m\u001b[43m \u001b[49m\u001b[43marg\u001b[49m\u001b[43m,\u001b[49m\u001b[43m \u001b[49m\u001b[43msuspend_type\u001b[49m\u001b[43m,\u001b[49m\u001b[43m \u001b[49m\u001b[43mfrom_this_thread\u001b[49m\u001b[43m,\u001b[49m\u001b[43m \u001b[49m\u001b[43mframes_tracker\u001b[49m\u001b[43m)\u001b[49m\n\u001b[1;32m   2072\u001b[0m frames_list \u001b[38;5;241m=\u001b[39m \u001b[38;5;28;01mNone\u001b[39;00m\n\u001b[1;32m   2074\u001b[0m \u001b[38;5;28;01mif\u001b[39;00m keep_suspended:\n\u001b[1;32m   2075\u001b[0m     \u001b[38;5;66;03m# This means that we should pause again after a set next statement.\u001b[39;00m\n",
      "File \u001b[0;32m~/workspace/azure-ai-notebooks/.venv/lib/python3.12/site-packages/debugpy/_vendored/pydevd/pydevd.py:2106\u001b[0m, in \u001b[0;36mPyDB._do_wait_suspend\u001b[0;34m(self, thread, frame, event, arg, suspend_type, from_this_thread, frames_tracker)\u001b[0m\n\u001b[1;32m   2103\u001b[0m         \u001b[38;5;28mself\u001b[39m\u001b[38;5;241m.\u001b[39m_call_input_hook()\n\u001b[1;32m   2105\u001b[0m     \u001b[38;5;28mself\u001b[39m\u001b[38;5;241m.\u001b[39mprocess_internal_commands()\n\u001b[0;32m-> 2106\u001b[0m     \u001b[43mtime\u001b[49m\u001b[38;5;241;43m.\u001b[39;49m\u001b[43msleep\u001b[49m\u001b[43m(\u001b[49m\u001b[38;5;241;43m0.01\u001b[39;49m\u001b[43m)\u001b[49m\n\u001b[1;32m   2108\u001b[0m \u001b[38;5;28mself\u001b[39m\u001b[38;5;241m.\u001b[39mcancel_async_evaluation(get_current_thread_id(thread), \u001b[38;5;28mstr\u001b[39m(\u001b[38;5;28mid\u001b[39m(frame)))\n\u001b[1;32m   2110\u001b[0m \u001b[38;5;66;03m# process any stepping instructions\u001b[39;00m\n",
      "\u001b[0;31mKeyboardInterrupt\u001b[0m: "
     ]
    }
   ],
   "source": [
    "url = apim_eus_resource_url + \"/openai/deployments/\" + openai_deployment_name + \"/chat/completions?api-version=\" + openai_api_version\n",
    "messages={\"messages\":[\n",
    "    {\"role\": \"system\", \"content\": \"You are a sarcastic unhelpful assistant.\"},\n",
    "    {\"role\": \"user\", \"content\": \"Can you tell me the time, please?\"}\n",
    "    ]}\n",
    "response = requests.post(url, headers = {'api-key':apim_subscription_key}, json = messages)\n",
    "print(\"status code: \", response.status_code)\n",
    "print(\"headers \", response.headers)\n",
    "print(\"x-ms-region: \", response.headers.get(\"x-ms-region\")) # this header is useful to determine the region of the backend that served the request\n",
    "print(\"x-ms-openai: \", response.headers.get(\"x-ms-openai\")) \n",
    "\n",
    "if (response.status_code == 200):\n",
    "    data = json.loads(response.text)\n",
    "    print(\"response: \", data.get(\"choices\")[0].get(\"message\").get(\"content\"))\n",
    "else:\n",
    "    print(response.text)"
   ]
  },
  {
   "cell_type": "markdown",
   "metadata": {},
   "source": [
    "-- Test Load Balancing"
   ]
  },
  {
   "cell_type": "markdown",
   "metadata": {},
   "source": [
    "<a id='plot'></a>\n",
    "### 🔍 Analyze Semantic Caching Testing"
   ]
  },
  {
   "cell_type": "code",
   "execution_count": 6,
   "metadata": {},
   "outputs": [],
   "source": [
    "sc_endpoint = os.environ[\"SC_ENDPOINT\"]\n",
    "sc_api_key = os.environ[\"SC_API_KEY\"]\n",
    "sc_api_version = os.environ[\"SC_API_VERSION\"]\n",
    "sc_openai_deployment_name = os.environ[\"SC_OPENAI_DEPLOYMENT_NAME\"]\n",
    "sc_openai_model_name = os.environ[\"SC_OPENAI_MODEL_NAME\"]\n",
    "sc_subscription = os.environ[\"SC_SUBSCRIPTION\"]"
   ]
  },
  {
   "cell_type": "code",
   "execution_count": 7,
   "metadata": {
    "vscode": {
     "languageId": "powershell"
    }
   },
   "outputs": [],
   "source": [
    "!az account set --subscription {sc_subscription}"
   ]
  },
  {
   "cell_type": "code",
   "execution_count": 8,
   "metadata": {},
   "outputs": [
    {
     "name": "stdout",
     "output_type": "stream",
     "text": [
      "▶️ Run:  1 duration: 12.64 seconds\n",
      "💬  Provide a short fact  ---->  Did you know that honey never spoils? Archaeologists have discovered pots of honey in ancient Egyptian tombs that are over 3,000 years old and still perfectly edible.\n",
      "▶️ Run:  2 duration: 1.58 seconds\n",
      "💬  What is the meaning of life  ---->  The meaning of life is subjective and can vary for each individual. Some common interpretations include finding personal happiness and fulfillment, forming meaningful connections with others, pursuing personal passions and goals, making a positive impact on the world, or seeking spirituality and personal growth. It ultimately depends on one's beliefs, values, and aspirations.\n",
      "▶️ Run:  3 duration: 0.43 seconds\n",
      "💬  Provide a short fact  ---->  Did you know that honey never spoils? Archaeologists have discovered pots of honey in ancient Egyptian tombs that are over 3,000 years old and still perfectly edible.\n",
      "▶️ Run:  4 duration: 0.26 seconds\n",
      "💬  What is the meaning of life  ---->  The meaning of life is subjective and can vary for each individual. Some common interpretations include finding personal happiness and fulfillment, forming meaningful connections with others, pursuing personal passions and goals, making a positive impact on the world, or seeking spirituality and personal growth. It ultimately depends on one's beliefs, values, and aspirations.\n",
      "▶️ Run:  5 duration: 0.26 seconds\n",
      "💬  Provide a short fact  ---->  Did you know that honey never spoils? Archaeologists have discovered pots of honey in ancient Egyptian tombs that are over 3,000 years old and still perfectly edible.\n",
      "▶️ Run:  6 duration: 0.26 seconds\n",
      "💬  What is the meaning of life  ---->  The meaning of life is subjective and can vary for each individual. Some common interpretations include finding personal happiness and fulfillment, forming meaningful connections with others, pursuing personal passions and goals, making a positive impact on the world, or seeking spirituality and personal growth. It ultimately depends on one's beliefs, values, and aspirations.\n",
      "▶️ Run:  7 duration: 0.24 seconds\n",
      "💬  Provide a short fact  ---->  Did you know that honey never spoils? Archaeologists have discovered pots of honey in ancient Egyptian tombs that are over 3,000 years old and still perfectly edible.\n",
      "▶️ Run:  8 duration: 0.26 seconds\n",
      "💬  Provide a short fact  ---->  Did you know that honey never spoils? Archaeologists have discovered pots of honey in ancient Egyptian tombs that are over 3,000 years old and still perfectly edible.\n",
      "▶️ Run:  9 duration: 6.06 seconds\n",
      "💬  Tell me a short story  ---->  Once upon a time in a small village nestled in the mountains, there lived a young girl named Mia. Mia had always been fascinated with the stars and dreamed of one day becoming an astronomer.\n",
      "\n",
      "One summer night, as she gazed up at the night sky, she noticed a mysterious shooting star streaking across the horizon. Intrigued, she decided to follow its trail into the dense forest.\n",
      "\n",
      "As she ventured deeper into the woods, Mia stumbled upon a hidden clearing. To her amazement, there stood a magical telescope, unlike anything she had ever seen before. The telescope seemed to call out to her, beckoning her to peer into the unknown.\n",
      "\n",
      "With a mixture of curiosity and excitement, Mia approached the telescope and took a peek through its lens. Instantly, her world was transformed. The skies above her came alive with vibrant constellations, sparkling galaxies, and celestial wonders that she had only ever dreamed of.\n",
      "\n",
      "From that moment on, Mia spent every evening exploring the mysteries of the universe through the enchanted telescope. She studied constellations, learned about cosmic phenomena, and even discovered a few stars of her own. Her knowledge and passion for astronomy grew immensely, and the villagers began to recognize her as the village stargazer.\n",
      "\n",
      "One night, Mia noticed an extraordinary pattern in the stars that she had never seen before. She realized that it was a message, etched across the cosmos. It read, \"Follow your dreams, Mia.\"\n",
      "\n",
      "Inspired and filled with a sense of purpose, Mia knew that the stars were guiding her to share her love for astronomy with the world. She decided to organize a stargazing event for the village, setting up telescopes and inviting everyone to join and witness the beauty of the night sky.\n",
      "\n",
      "The event was a tremendous success. People marveled at the wonders Mia had discovered and were captivated by the vastness of the universe. Many children, just like Mia at a younger age, were inspired to pursue their own dreams of exploring the stars.\n",
      "\n",
      "From that day forward, Mia continued to teach and inspire others about astronomy. She became a renowned astronomer, using her knowledge and passion to make significant contributions to the field. The once-small village became known for its love of the night sky, attracting enthusiasts from near and far.\n",
      "\n",
      "Mia's story reminds us that by following our dreams, we can uncover hidden talents and passions within ourselves. Just as she was guided by the stars, we too can find our purpose and make a difference in the world.\n",
      "▶️ Run:  10 duration: 0.25 seconds\n",
      "💬  Tell me a short story  ---->  Once upon a time in a small village nestled in the mountains, there lived a young girl named Mia. Mia had always been fascinated with the stars and dreamed of one day becoming an astronomer.\n",
      "\n",
      "One summer night, as she gazed up at the night sky, she noticed a mysterious shooting star streaking across the horizon. Intrigued, she decided to follow its trail into the dense forest.\n",
      "\n",
      "As she ventured deeper into the woods, Mia stumbled upon a hidden clearing. To her amazement, there stood a magical telescope, unlike anything she had ever seen before. The telescope seemed to call out to her, beckoning her to peer into the unknown.\n",
      "\n",
      "With a mixture of curiosity and excitement, Mia approached the telescope and took a peek through its lens. Instantly, her world was transformed. The skies above her came alive with vibrant constellations, sparkling galaxies, and celestial wonders that she had only ever dreamed of.\n",
      "\n",
      "From that moment on, Mia spent every evening exploring the mysteries of the universe through the enchanted telescope. She studied constellations, learned about cosmic phenomena, and even discovered a few stars of her own. Her knowledge and passion for astronomy grew immensely, and the villagers began to recognize her as the village stargazer.\n",
      "\n",
      "One night, Mia noticed an extraordinary pattern in the stars that she had never seen before. She realized that it was a message, etched across the cosmos. It read, \"Follow your dreams, Mia.\"\n",
      "\n",
      "Inspired and filled with a sense of purpose, Mia knew that the stars were guiding her to share her love for astronomy with the world. She decided to organize a stargazing event for the village, setting up telescopes and inviting everyone to join and witness the beauty of the night sky.\n",
      "\n",
      "The event was a tremendous success. People marveled at the wonders Mia had discovered and were captivated by the vastness of the universe. Many children, just like Mia at a younger age, were inspired to pursue their own dreams of exploring the stars.\n",
      "\n",
      "From that day forward, Mia continued to teach and inspire others about astronomy. She became a renowned astronomer, using her knowledge and passion to make significant contributions to the field. The once-small village became known for its love of the night sky, attracting enthusiasts from near and far.\n",
      "\n",
      "Mia's story reminds us that by following our dreams, we can uncover hidden talents and passions within ourselves. Just as she was guided by the stars, we too can find our purpose and make a difference in the world.\n"
     ]
    }
   ],
   "source": [
    "from openai import AzureOpenAI\n",
    "import time, random\n",
    "\n",
    "runs = 10\n",
    "questions = [\"Provide a short fact\", \n",
    "             \"Tell me a short story\", \n",
    "             \"What is the meaning of life\",]\n",
    "api_runs = [] \n",
    "for i in range(runs):\n",
    "    random_question = random.choice(questions)\n",
    "    messages=[\n",
    "        {\"role\": \"system\", \"content\": \"You are a insightful assistant.\"},\n",
    "        {\"role\": \"user\", \"content\": random_question}\n",
    "    ]\n",
    "    client = AzureOpenAI(azure_endpoint=sc_endpoint, api_key=sc_api_key, api_version=sc_api_version)\n",
    "    start_time = time.time()\n",
    "    response = client.chat.completions.create(model=sc_openai_model_name, messages=messages)\n",
    "    response_time = time.time() - start_time\n",
    "    print(\"▶️ Run: \", i+1, f\"duration: {response_time:.2f} seconds\")\n",
    "    print(\"💬 \", random_question, \" ----> \", response.choices[0].message.content)\n",
    "    api_runs.append(response_time)"
   ]
  },
  {
   "cell_type": "code",
   "execution_count": 9,
   "metadata": {},
   "outputs": [
    {
     "data": {
      "image/png": "[encoded data removed]",
      "text/plain": [
       "<Figure size 1500x500 with 1 Axes>"
      ]
     },
     "metadata": {},
     "output_type": "display_data"
    }
   ],
   "source": [
    "# plot the results\n",
    "import pandas as pd\n",
    "import matplotlib.pyplot as plt\n",
    "import matplotlib as mpl\n",
    "\n",
    "mpl.rcParams['figure.figsize'] = [15, 5]\n",
    "df = pd.DataFrame(api_runs, columns=['Response Time'])\n",
    "df['Run'] = range(1, len(df) + 1)\n",
    "df.plot(kind='bar', x='Run', y='Response Time', legend=False)\n",
    "plt.title('Semantic Caching Performance')\n",
    "plt.xlabel('Runs')\n",
    "plt.ylabel('Response Time (s)')\n",
    "plt.xticks(df['Run'], rotation=0)  # Set x-axis ticks to be the run numbers\n",
    "\n",
    "average = df['Response Time'].mean()\n",
    "plt.axhline(y=average, color='r', linestyle='--', label=f'Average: {average:.2f}')\n",
    "plt.legend()\n",
    "\n",
    "plt.show()"
   ]
  }
 ],
 "metadata": {
  "language_info": {
   "name": "python"
  }
 },
 "nbformat": 4,
 "nbformat_minor": 2
}
